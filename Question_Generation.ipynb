{
  "nbformat": 4,
  "nbformat_minor": 0,
  "metadata": {
    "colab": {
      "provenance": []
    },
    "kernelspec": {
      "display_name": "Python 3",
      "name": "python3"
    }
  },
  "cells": [
    {
      "cell_type": "markdown",
      "metadata": {
        "id": "nSBrMz_ED6HL"
      },
      "source": [
        "# SQuAD-Multitask-QuestionAnswer-Generation"
      ]
    },
    {
      "cell_type": "code",
      "metadata": {
        "colab": {
          "base_uri": "https://localhost:8080/"
        },
        "id": "1-kuP2_W12-j",
        "outputId": "596f52dd-f442-486d-9d5d-e7e3272bfc44"
      },
      "source": [
        "!nvidia-smi"
      ],
      "execution_count": null,
      "outputs": [
        {
          "output_type": "stream",
          "name": "stdout",
          "text": [
            "Fri Feb 25 11:52:00 2022       \n",
            "+-----------------------------------------------------------------------------+\n",
            "| NVIDIA-SMI 460.32.03    Driver Version: 460.32.03    CUDA Version: 11.2     |\n",
            "|-------------------------------+----------------------+----------------------+\n",
            "| GPU  Name        Persistence-M| Bus-Id        Disp.A | Volatile Uncorr. ECC |\n",
            "| Fan  Temp  Perf  Pwr:Usage/Cap|         Memory-Usage | GPU-Util  Compute M. |\n",
            "|                               |                      |               MIG M. |\n",
            "|===============================+======================+======================|\n",
            "|   0  Tesla K80           Off  | 00000000:00:04.0 Off |                    0 |\n",
            "| N/A   31C    P8    26W / 149W |      0MiB / 11441MiB |      0%      Default |\n",
            "|                               |                      |                  N/A |\n",
            "+-------------------------------+----------------------+----------------------+\n",
            "                                                                               \n",
            "+-----------------------------------------------------------------------------+\n",
            "| Processes:                                                                  |\n",
            "|  GPU   GI   CI        PID   Type   Process name                  GPU Memory |\n",
            "|        ID   ID                                                   Usage      |\n",
            "|=============================================================================|\n",
            "|  No running processes found                                                 |\n",
            "+-----------------------------------------------------------------------------+\n"
          ]
        }
      ]
    },
    {
      "cell_type": "code",
      "metadata": {
        "id": "ZsaKsEPKiEAL"
      },
      "source": [
        "import sys\n",
        "\n",
        "IN_COLAB = 'google.colab' in sys.modules\n",
        "RUN_TRAINING_CELLS = IN_COLAB\n",
        "\n",
        "EXPERIMENT_NAME = 'SQuAD-Multitask-QuestionAnswer-Generation/'\n",
        "DRIVE_FOLDER_LOCATION = '/content/drive/My Drive/Colab Notebooks/My Project Folder/' + EXPERIMENT_NAME"
      ],
      "execution_count": null,
      "outputs": []
    },
    {
      "cell_type": "code",
      "metadata": {
        "colab": {
          "base_uri": "https://localhost:8080/"
        },
        "id": "asTTT9daGGme",
        "outputId": "16c3944c-1274-49f5-c37e-6fdb5f516db4"
      },
      "source": [
        "# Mounting google drive\n",
        "if IN_COLAB:\n",
        "    from google.colab import drive\n",
        "\n",
        "    drive.mount('/content/drive', force_remount=True)"
      ],
      "execution_count": null,
      "outputs": [
        {
          "output_type": "stream",
          "name": "stdout",
          "text": [
            "Mounted at /content/drive\n"
          ]
        }
      ]
    },
    {
      "cell_type": "markdown",
      "metadata": {
        "id": "eI8Saapu878D"
      },
      "source": [
        "## Environment setup\n",
        "Setting up Google drive as working directory and installing packages."
      ]
    },
    {
      "cell_type": "code",
      "metadata": {
        "id": "rgN8Nl4xRHPt",
        "colab": {
          "base_uri": "https://localhost:8080/"
        },
        "outputId": "e2261dc1-ad56-40bb-dedf-5cd4e6279050"
      },
      "source": [
        "# Using my own Google Drive during the experiment to save all checkpoints and training logs.\n",
        "\n",
        "if IN_COLAB:\n",
        "    import os\n",
        "\n",
        "    def create_and_set_working_directory(path: str):\n",
        "        # check if your project folder exists. if not, it will be created.\n",
        "        if os.path.isdir(path) == False:\n",
        "            os.mkdir(path)\n",
        "            print(path + ' did not exist but was created.')\n",
        "\n",
        "        # change the OS to use your project folder as the working directory\n",
        "        os.chdir(path)\n",
        "\n",
        "        print('Working directory changed to: \\n' + path)\n",
        "\n",
        "    create_and_set_working_directory(DRIVE_FOLDER_LOCATION)\n",
        "    !pwd"
      ],
      "execution_count": null,
      "outputs": [
        {
          "output_type": "stream",
          "name": "stdout",
          "text": [
            "Working directory changed to: \n",
            "/content/drive/My Drive/Colab Notebooks/My Project Folder/SQuAD-Multitask-QuestionAnswer-Generation/\n",
            "/content/drive/My Drive/Colab Notebooks/My Project Folder/SQuAD-Multitask-QuestionAnswer-Generation\n"
          ]
        }
      ]
    },
    {
      "cell_type": "code",
      "metadata": {
        "id": "5hrFOevkEKG2"
      },
      "source": [
        "# Install packages\n",
        "if IN_COLAB:\n",
        "    !pip install --quiet transformers==4.3.0\n",
        "    !pip install --quiet pytorch-lightning==1.2.10\n",
        "    !pip install --quiet tokenizers==0.10.3"
      ],
      "execution_count": null,
      "outputs": []
    },
    {
      "cell_type": "code",
      "metadata": {
        "id": "i8vjhHJ-FfQS"
      },
      "source": [
        "# Import packages\n",
        "from typing import List, Dict\n",
        "import tqdm.notebook as tq\n",
        "from tqdm.notebook import tqdm\n",
        "import json\n",
        "import pandas as pd\n",
        "import numpy as np\n",
        "\n",
        "import torch\n",
        "from pathlib import Path\n",
        "from torch.utils.data import Dataset, DataLoader\n",
        "import pytorch_lightning as pl\n",
        "from pytorch_lightning.callbacks import ModelCheckpoint\n",
        "from sklearn.model_selection import train_test_split\n",
        "from transformers import (\n",
        "    AdamW,\n",
        "    T5ForConditionalGeneration,\n",
        "    T5TokenizerFast as T5Tokenizer\n",
        "    )"
      ],
      "execution_count": null,
      "outputs": []
    },
    {
      "cell_type": "code",
      "metadata": {
        "colab": {
          "base_uri": "https://localhost:8080/"
        },
        "id": "Q4DQ4J1IKPC0",
        "outputId": "c1adf6ef-413e-463f-86f7-37e4950e71c2"
      },
      "source": [
        "pl.seed_everything(42)"
      ],
      "execution_count": null,
      "outputs": [
        {
          "output_type": "stream",
          "name": "stderr",
          "text": [
            "Global seed set to 42\n"
          ]
        },
        {
          "output_type": "execute_result",
          "data": {
            "text/plain": [
              "42"
            ]
          },
          "metadata": {},
          "execution_count": 7
        }
      ]
    },
    {
      "cell_type": "markdown",
      "metadata": {
        "id": "jzHW6bG4QY4U"
      },
      "source": [
        "### Squad\n",
        "Reading a version of the SQuAD dataset where the there is a row for each question in the dataset."
      ]
    },
    {
      "cell_type": "code",
      "metadata": {
        "id": "BdzOr9IMQahg"
      },
      "source": [
        "# Download squad files\n",
        "if IN_COLAB:\n",
        "    !gdown --id 1bJylzAN7ocPTXp_ow-nLE4-hej6c68Vy #train_df.csv\n",
        "    !gdown --id 1hNJMOTVVKB--btCf3BLPc3frkcppw6fB #dev_df.csv"
      ],
      "execution_count": null,
      "outputs": []
    },
    {
      "cell_type": "code",
      "metadata": {
        "colab": {
          "base_uri": "https://localhost:8080/",
          "height": 224
        },
        "id": "IdQZN-tyuYG5",
        "outputId": "07da2b90-97c4-4012-f37d-2a0e26c8c9f3"
      },
      "source": [
        "squad_train_df = pd.read_csv('train_df.csv')\n",
        "print(squad_train_df.shape)\n",
        "\n",
        "squad_train_df.head()"
      ],
      "execution_count": null,
      "outputs": [
        {
          "output_type": "stream",
          "name": "stdout",
          "text": [
            "(87599, 6)\n"
          ]
        },
        {
          "output_type": "execute_result",
          "data": {
            "text/html": [
              "\n",
              "  <div id=\"df-e1066de5-0907-4450-a7e6-4298930e749e\">\n",
              "    <div class=\"colab-df-container\">\n",
              "      <div>\n",
              "<style scoped>\n",
              "    .dataframe tbody tr th:only-of-type {\n",
              "        vertical-align: middle;\n",
              "    }\n",
              "\n",
              "    .dataframe tbody tr th {\n",
              "        vertical-align: top;\n",
              "    }\n",
              "\n",
              "    .dataframe thead th {\n",
              "        text-align: right;\n",
              "    }\n",
              "</style>\n",
              "<table border=\"1\" class=\"dataframe\">\n",
              "  <thead>\n",
              "    <tr style=\"text-align: right;\">\n",
              "      <th></th>\n",
              "      <th>question</th>\n",
              "      <th>context_para</th>\n",
              "      <th>context_sent</th>\n",
              "      <th>answer_text</th>\n",
              "      <th>answer_start</th>\n",
              "      <th>answer_end</th>\n",
              "    </tr>\n",
              "  </thead>\n",
              "  <tbody>\n",
              "    <tr>\n",
              "      <th>0</th>\n",
              "      <td>To whom did the Virgin Mary allegedly appear i...</td>\n",
              "      <td>Architecturally, the school has a Catholic cha...</td>\n",
              "      <td>It is a replica of the grotto at Lourdes, Fran...</td>\n",
              "      <td>Saint Bernadette Soubirous</td>\n",
              "      <td>515</td>\n",
              "      <td>541</td>\n",
              "    </tr>\n",
              "    <tr>\n",
              "      <th>1</th>\n",
              "      <td>What is in front of the Notre Dame Main Building?</td>\n",
              "      <td>Architecturally, the school has a Catholic cha...</td>\n",
              "      <td>Immediately in front of the Main Building and ...</td>\n",
              "      <td>a copper statue of Christ</td>\n",
              "      <td>188</td>\n",
              "      <td>213</td>\n",
              "    </tr>\n",
              "    <tr>\n",
              "      <th>2</th>\n",
              "      <td>The Basilica of the Sacred heart at Notre Dame...</td>\n",
              "      <td>Architecturally, the school has a Catholic cha...</td>\n",
              "      <td>Next to the Main Building is the Basilica of t...</td>\n",
              "      <td>the Main Building</td>\n",
              "      <td>279</td>\n",
              "      <td>296</td>\n",
              "    </tr>\n",
              "    <tr>\n",
              "      <th>3</th>\n",
              "      <td>What is the Grotto at Notre Dame?</td>\n",
              "      <td>Architecturally, the school has a Catholic cha...</td>\n",
              "      <td>Immediately behind the basilica is the Grotto,...</td>\n",
              "      <td>a Marian place of prayer and reflection</td>\n",
              "      <td>381</td>\n",
              "      <td>420</td>\n",
              "    </tr>\n",
              "    <tr>\n",
              "      <th>4</th>\n",
              "      <td>What sits on top of the Main Building at Notre...</td>\n",
              "      <td>Architecturally, the school has a Catholic cha...</td>\n",
              "      <td>Atop the Main Building's gold dome is a golden...</td>\n",
              "      <td>a golden statue of the Virgin Mary</td>\n",
              "      <td>92</td>\n",
              "      <td>126</td>\n",
              "    </tr>\n",
              "  </tbody>\n",
              "</table>\n",
              "</div>\n",
              "      <button class=\"colab-df-convert\" onclick=\"convertToInteractive('df-e1066de5-0907-4450-a7e6-4298930e749e')\"\n",
              "              title=\"Convert this dataframe to an interactive table.\"\n",
              "              style=\"display:none;\">\n",
              "        \n",
              "  <svg xmlns=\"http://www.w3.org/2000/svg\" height=\"24px\"viewBox=\"0 0 24 24\"\n",
              "       width=\"24px\">\n",
              "    <path d=\"M0 0h24v24H0V0z\" fill=\"none\"/>\n",
              "    <path d=\"M18.56 5.44l.94 2.06.94-2.06 2.06-.94-2.06-.94-.94-2.06-.94 2.06-2.06.94zm-11 1L8.5 8.5l.94-2.06 2.06-.94-2.06-.94L8.5 2.5l-.94 2.06-2.06.94zm10 10l.94 2.06.94-2.06 2.06-.94-2.06-.94-.94-2.06-.94 2.06-2.06.94z\"/><path d=\"M17.41 7.96l-1.37-1.37c-.4-.4-.92-.59-1.43-.59-.52 0-1.04.2-1.43.59L10.3 9.45l-7.72 7.72c-.78.78-.78 2.05 0 2.83L4 21.41c.39.39.9.59 1.41.59.51 0 1.02-.2 1.41-.59l7.78-7.78 2.81-2.81c.8-.78.8-2.07 0-2.86zM5.41 20L4 18.59l7.72-7.72 1.47 1.35L5.41 20z\"/>\n",
              "  </svg>\n",
              "      </button>\n",
              "      \n",
              "  <style>\n",
              "    .colab-df-container {\n",
              "      display:flex;\n",
              "      flex-wrap:wrap;\n",
              "      gap: 12px;\n",
              "    }\n",
              "\n",
              "    .colab-df-convert {\n",
              "      background-color: #E8F0FE;\n",
              "      border: none;\n",
              "      border-radius: 50%;\n",
              "      cursor: pointer;\n",
              "      display: none;\n",
              "      fill: #1967D2;\n",
              "      height: 32px;\n",
              "      padding: 0 0 0 0;\n",
              "      width: 32px;\n",
              "    }\n",
              "\n",
              "    .colab-df-convert:hover {\n",
              "      background-color: #E2EBFA;\n",
              "      box-shadow: 0px 1px 2px rgba(60, 64, 67, 0.3), 0px 1px 3px 1px rgba(60, 64, 67, 0.15);\n",
              "      fill: #174EA6;\n",
              "    }\n",
              "\n",
              "    [theme=dark] .colab-df-convert {\n",
              "      background-color: #3B4455;\n",
              "      fill: #D2E3FC;\n",
              "    }\n",
              "\n",
              "    [theme=dark] .colab-df-convert:hover {\n",
              "      background-color: #434B5C;\n",
              "      box-shadow: 0px 1px 3px 1px rgba(0, 0, 0, 0.15);\n",
              "      filter: drop-shadow(0px 1px 2px rgba(0, 0, 0, 0.3));\n",
              "      fill: #FFFFFF;\n",
              "    }\n",
              "  </style>\n",
              "\n",
              "      <script>\n",
              "        const buttonEl =\n",
              "          document.querySelector('#df-e1066de5-0907-4450-a7e6-4298930e749e button.colab-df-convert');\n",
              "        buttonEl.style.display =\n",
              "          google.colab.kernel.accessAllowed ? 'block' : 'none';\n",
              "\n",
              "        async function convertToInteractive(key) {\n",
              "          const element = document.querySelector('#df-e1066de5-0907-4450-a7e6-4298930e749e');\n",
              "          const dataTable =\n",
              "            await google.colab.kernel.invokeFunction('convertToInteractive',\n",
              "                                                     [key], {});\n",
              "          if (!dataTable) return;\n",
              "\n",
              "          const docLinkHtml = 'Like what you see? Visit the ' +\n",
              "            '<a target=\"_blank\" href=https://colab.research.google.com/notebooks/data_table.ipynb>data table notebook</a>'\n",
              "            + ' to learn more about interactive tables.';\n",
              "          element.innerHTML = '';\n",
              "          dataTable['output_type'] = 'display_data';\n",
              "          await google.colab.output.renderOutput(dataTable, element);\n",
              "          const docLink = document.createElement('div');\n",
              "          docLink.innerHTML = docLinkHtml;\n",
              "          element.appendChild(docLink);\n",
              "        }\n",
              "      </script>\n",
              "    </div>\n",
              "  </div>\n",
              "  "
            ],
            "text/plain": [
              "                                            question  ... answer_end\n",
              "0  To whom did the Virgin Mary allegedly appear i...  ...        541\n",
              "1  What is in front of the Notre Dame Main Building?  ...        213\n",
              "2  The Basilica of the Sacred heart at Notre Dame...  ...        296\n",
              "3                  What is the Grotto at Notre Dame?  ...        420\n",
              "4  What sits on top of the Main Building at Notre...  ...        126\n",
              "\n",
              "[5 rows x 6 columns]"
            ]
          },
          "metadata": {},
          "execution_count": 8
        }
      ]
    },
    {
      "cell_type": "code",
      "metadata": {
        "colab": {
          "base_uri": "https://localhost:8080/",
          "height": 224
        },
        "id": "PnsQMz3YvVtt",
        "outputId": "6ebc615e-38ec-4be2-d491-e44bf6b1d8f5"
      },
      "source": [
        "squad_dev_df = pd.read_csv('dev_df.csv')\n",
        "print(squad_dev_df.shape)\n",
        "\n",
        "squad_dev_df.head()"
      ],
      "execution_count": null,
      "outputs": [
        {
          "output_type": "stream",
          "name": "stdout",
          "text": [
            "(10570, 6)\n"
          ]
        },
        {
          "output_type": "execute_result",
          "data": {
            "text/html": [
              "\n",
              "  <div id=\"df-bc6c0ab3-f8c3-4a76-951a-e49925d1f764\">\n",
              "    <div class=\"colab-df-container\">\n",
              "      <div>\n",
              "<style scoped>\n",
              "    .dataframe tbody tr th:only-of-type {\n",
              "        vertical-align: middle;\n",
              "    }\n",
              "\n",
              "    .dataframe tbody tr th {\n",
              "        vertical-align: top;\n",
              "    }\n",
              "\n",
              "    .dataframe thead th {\n",
              "        text-align: right;\n",
              "    }\n",
              "</style>\n",
              "<table border=\"1\" class=\"dataframe\">\n",
              "  <thead>\n",
              "    <tr style=\"text-align: right;\">\n",
              "      <th></th>\n",
              "      <th>question</th>\n",
              "      <th>context_para</th>\n",
              "      <th>context_sent</th>\n",
              "      <th>answer_text</th>\n",
              "      <th>answer_start</th>\n",
              "      <th>answer_end</th>\n",
              "    </tr>\n",
              "  </thead>\n",
              "  <tbody>\n",
              "    <tr>\n",
              "      <th>0</th>\n",
              "      <td>Which NFL team represented the AFC at Super Bo...</td>\n",
              "      <td>Super Bowl 50 was an American football game to...</td>\n",
              "      <td>The American Football Conference (AFC) champio...</td>\n",
              "      <td>Denver Broncos</td>\n",
              "      <td>177</td>\n",
              "      <td>191</td>\n",
              "    </tr>\n",
              "    <tr>\n",
              "      <th>1</th>\n",
              "      <td>Which NFL team represented the NFC at Super Bo...</td>\n",
              "      <td>Super Bowl 50 was an American football game to...</td>\n",
              "      <td>The American Football Conference (AFC) champio...</td>\n",
              "      <td>Carolina Panthers</td>\n",
              "      <td>249</td>\n",
              "      <td>266</td>\n",
              "    </tr>\n",
              "    <tr>\n",
              "      <th>2</th>\n",
              "      <td>Where did Super Bowl 50 take place?</td>\n",
              "      <td>Super Bowl 50 was an American football game to...</td>\n",
              "      <td>The game was played on February 7, 2016, at Le...</td>\n",
              "      <td>Santa Clara, California</td>\n",
              "      <td>403</td>\n",
              "      <td>426</td>\n",
              "    </tr>\n",
              "    <tr>\n",
              "      <th>3</th>\n",
              "      <td>Which NFL team won Super Bowl 50?</td>\n",
              "      <td>Super Bowl 50 was an American football game to...</td>\n",
              "      <td>The American Football Conference (AFC) champio...</td>\n",
              "      <td>Denver Broncos</td>\n",
              "      <td>177</td>\n",
              "      <td>191</td>\n",
              "    </tr>\n",
              "    <tr>\n",
              "      <th>4</th>\n",
              "      <td>What color was used to emphasize the 50th anni...</td>\n",
              "      <td>Super Bowl 50 was an American football game to...</td>\n",
              "      <td>As this was the 50th Super Bowl, the league em...</td>\n",
              "      <td>gold</td>\n",
              "      <td>488</td>\n",
              "      <td>492</td>\n",
              "    </tr>\n",
              "  </tbody>\n",
              "</table>\n",
              "</div>\n",
              "      <button class=\"colab-df-convert\" onclick=\"convertToInteractive('df-bc6c0ab3-f8c3-4a76-951a-e49925d1f764')\"\n",
              "              title=\"Convert this dataframe to an interactive table.\"\n",
              "              style=\"display:none;\">\n",
              "        \n",
              "  <svg xmlns=\"http://www.w3.org/2000/svg\" height=\"24px\"viewBox=\"0 0 24 24\"\n",
              "       width=\"24px\">\n",
              "    <path d=\"M0 0h24v24H0V0z\" fill=\"none\"/>\n",
              "    <path d=\"M18.56 5.44l.94 2.06.94-2.06 2.06-.94-2.06-.94-.94-2.06-.94 2.06-2.06.94zm-11 1L8.5 8.5l.94-2.06 2.06-.94-2.06-.94L8.5 2.5l-.94 2.06-2.06.94zm10 10l.94 2.06.94-2.06 2.06-.94-2.06-.94-.94-2.06-.94 2.06-2.06.94z\"/><path d=\"M17.41 7.96l-1.37-1.37c-.4-.4-.92-.59-1.43-.59-.52 0-1.04.2-1.43.59L10.3 9.45l-7.72 7.72c-.78.78-.78 2.05 0 2.83L4 21.41c.39.39.9.59 1.41.59.51 0 1.02-.2 1.41-.59l7.78-7.78 2.81-2.81c.8-.78.8-2.07 0-2.86zM5.41 20L4 18.59l7.72-7.72 1.47 1.35L5.41 20z\"/>\n",
              "  </svg>\n",
              "      </button>\n",
              "      \n",
              "  <style>\n",
              "    .colab-df-container {\n",
              "      display:flex;\n",
              "      flex-wrap:wrap;\n",
              "      gap: 12px;\n",
              "    }\n",
              "\n",
              "    .colab-df-convert {\n",
              "      background-color: #E8F0FE;\n",
              "      border: none;\n",
              "      border-radius: 50%;\n",
              "      cursor: pointer;\n",
              "      display: none;\n",
              "      fill: #1967D2;\n",
              "      height: 32px;\n",
              "      padding: 0 0 0 0;\n",
              "      width: 32px;\n",
              "    }\n",
              "\n",
              "    .colab-df-convert:hover {\n",
              "      background-color: #E2EBFA;\n",
              "      box-shadow: 0px 1px 2px rgba(60, 64, 67, 0.3), 0px 1px 3px 1px rgba(60, 64, 67, 0.15);\n",
              "      fill: #174EA6;\n",
              "    }\n",
              "\n",
              "    [theme=dark] .colab-df-convert {\n",
              "      background-color: #3B4455;\n",
              "      fill: #D2E3FC;\n",
              "    }\n",
              "\n",
              "    [theme=dark] .colab-df-convert:hover {\n",
              "      background-color: #434B5C;\n",
              "      box-shadow: 0px 1px 3px 1px rgba(0, 0, 0, 0.15);\n",
              "      filter: drop-shadow(0px 1px 2px rgba(0, 0, 0, 0.3));\n",
              "      fill: #FFFFFF;\n",
              "    }\n",
              "  </style>\n",
              "\n",
              "      <script>\n",
              "        const buttonEl =\n",
              "          document.querySelector('#df-bc6c0ab3-f8c3-4a76-951a-e49925d1f764 button.colab-df-convert');\n",
              "        buttonEl.style.display =\n",
              "          google.colab.kernel.accessAllowed ? 'block' : 'none';\n",
              "\n",
              "        async function convertToInteractive(key) {\n",
              "          const element = document.querySelector('#df-bc6c0ab3-f8c3-4a76-951a-e49925d1f764');\n",
              "          const dataTable =\n",
              "            await google.colab.kernel.invokeFunction('convertToInteractive',\n",
              "                                                     [key], {});\n",
              "          if (!dataTable) return;\n",
              "\n",
              "          const docLinkHtml = 'Like what you see? Visit the ' +\n",
              "            '<a target=\"_blank\" href=https://colab.research.google.com/notebooks/data_table.ipynb>data table notebook</a>'\n",
              "            + ' to learn more about interactive tables.';\n",
              "          element.innerHTML = '';\n",
              "          dataTable['output_type'] = 'display_data';\n",
              "          await google.colab.output.renderOutput(dataTable, element);\n",
              "          const docLink = document.createElement('div');\n",
              "          docLink.innerHTML = docLinkHtml;\n",
              "          element.appendChild(docLink);\n",
              "        }\n",
              "      </script>\n",
              "    </div>\n",
              "  </div>\n",
              "  "
            ],
            "text/plain": [
              "                                            question  ... answer_end\n",
              "0  Which NFL team represented the AFC at Super Bo...  ...        191\n",
              "1  Which NFL team represented the NFC at Super Bo...  ...        266\n",
              "2                Where did Super Bowl 50 take place?  ...        426\n",
              "3                  Which NFL team won Super Bowl 50?  ...        191\n",
              "4  What color was used to emphasize the 50th anni...  ...        492\n",
              "\n",
              "[5 rows x 6 columns]"
            ]
          },
          "metadata": {},
          "execution_count": 9
        }
      ]
    },
    {
      "cell_type": "code",
      "metadata": {
        "id": "WmhG6CxuFkg_"
      },
      "source": [
        "#Using paragraph\n",
        "context_name = 'context_para'\n",
        "drop_context = 'context_sent'"
      ],
      "execution_count": null,
      "outputs": []
    },
    {
      "cell_type": "code",
      "metadata": {
        "colab": {
          "base_uri": "https://localhost:8080/",
          "height": 258
        },
        "id": "E9dNeC8JzlgU",
        "outputId": "5c88560b-8066-4c8a-ab1a-8ae8df37999a"
      },
      "source": [
        "df = squad_train_df.copy()\n",
        "# print(df.shape, ' :copy')\n",
        "\n",
        "df = df.dropna() # One missing answer_text. Will fix it later.\n",
        "# print(df.shape, ' :drop na')\n",
        "\n",
        "#Dropping duplicates\n",
        "# df = df.drop_duplicates(subset=['context_sent']).reset_index(drop=True)\n",
        "# print(df.shape, ' :dropping duplicate sentence')\n",
        "\n",
        "df.rename(columns = {context_name: 'context'}, inplace=True)\n",
        "df.drop(columns=[drop_context, 'answer_start', 'answer_end'], inplace=True) #answer_start and answer_end are not needed and are for the paragraph\n",
        "# print(df.shape, ' :final')\n",
        "\n",
        "test_df = df[:11877]\n",
        "train_df = df[11877:]\n",
        "\n",
        "## Dev set\n",
        "dev_df = squad_dev_df.copy()\n",
        "dev_df.rename(columns = {context_name: 'context'}, inplace=True)\n",
        "dev_df.drop(columns=[drop_context, 'answer_start', 'answer_end'], inplace=True)\n",
        "\n",
        "print(train_df.shape, 'train_df')\n",
        "print(dev_df.shape, 'dev_df')\n",
        "print(test_df.shape, 'test_df')\n",
        "\n",
        "train_df.head()"
      ],
      "execution_count": null,
      "outputs": [
        {
          "output_type": "stream",
          "name": "stdout",
          "text": [
            "(75721, 3) train_df\n",
            "(10570, 3) dev_df\n",
            "(11877, 3) test_df\n"
          ]
        },
        {
          "output_type": "execute_result",
          "data": {
            "text/html": [
              "\n",
              "  <div id=\"df-83324d5e-6b07-4878-b489-5b6ce2336111\">\n",
              "    <div class=\"colab-df-container\">\n",
              "      <div>\n",
              "<style scoped>\n",
              "    .dataframe tbody tr th:only-of-type {\n",
              "        vertical-align: middle;\n",
              "    }\n",
              "\n",
              "    .dataframe tbody tr th {\n",
              "        vertical-align: top;\n",
              "    }\n",
              "\n",
              "    .dataframe thead th {\n",
              "        text-align: right;\n",
              "    }\n",
              "</style>\n",
              "<table border=\"1\" class=\"dataframe\">\n",
              "  <thead>\n",
              "    <tr style=\"text-align: right;\">\n",
              "      <th></th>\n",
              "      <th>question</th>\n",
              "      <th>context</th>\n",
              "      <th>answer_text</th>\n",
              "    </tr>\n",
              "  </thead>\n",
              "  <tbody>\n",
              "    <tr>\n",
              "      <th>11877</th>\n",
              "      <td>What is heresy mainly at odds with?</td>\n",
              "      <td>Heresy is any provocative belief or theory tha...</td>\n",
              "      <td>established beliefs or customs</td>\n",
              "    </tr>\n",
              "    <tr>\n",
              "      <th>11878</th>\n",
              "      <td>What is a person called is practicing heresy?</td>\n",
              "      <td>Heresy is any provocative belief or theory tha...</td>\n",
              "      <td>A heretic</td>\n",
              "    </tr>\n",
              "    <tr>\n",
              "      <th>11879</th>\n",
              "      <td>What religions and idea of thought is heresy c...</td>\n",
              "      <td>The term is usually used to refer to violation...</td>\n",
              "      <td>Christianity, Judaism, Islam and Marxism</td>\n",
              "    </tr>\n",
              "    <tr>\n",
              "      <th>11880</th>\n",
              "      <td>What cultures are listed as examples of discip...</td>\n",
              "      <td>In certain historical Christian, Islamic and J...</td>\n",
              "      <td>Christian, Islamic and Jewish</td>\n",
              "    </tr>\n",
              "    <tr>\n",
              "      <th>11881</th>\n",
              "      <td>What language does the term heresy find its ro...</td>\n",
              "      <td>The term heresy is from Greek αἵρεσις original...</td>\n",
              "      <td>Greek</td>\n",
              "    </tr>\n",
              "  </tbody>\n",
              "</table>\n",
              "</div>\n",
              "      <button class=\"colab-df-convert\" onclick=\"convertToInteractive('df-83324d5e-6b07-4878-b489-5b6ce2336111')\"\n",
              "              title=\"Convert this dataframe to an interactive table.\"\n",
              "              style=\"display:none;\">\n",
              "        \n",
              "  <svg xmlns=\"http://www.w3.org/2000/svg\" height=\"24px\"viewBox=\"0 0 24 24\"\n",
              "       width=\"24px\">\n",
              "    <path d=\"M0 0h24v24H0V0z\" fill=\"none\"/>\n",
              "    <path d=\"M18.56 5.44l.94 2.06.94-2.06 2.06-.94-2.06-.94-.94-2.06-.94 2.06-2.06.94zm-11 1L8.5 8.5l.94-2.06 2.06-.94-2.06-.94L8.5 2.5l-.94 2.06-2.06.94zm10 10l.94 2.06.94-2.06 2.06-.94-2.06-.94-.94-2.06-.94 2.06-2.06.94z\"/><path d=\"M17.41 7.96l-1.37-1.37c-.4-.4-.92-.59-1.43-.59-.52 0-1.04.2-1.43.59L10.3 9.45l-7.72 7.72c-.78.78-.78 2.05 0 2.83L4 21.41c.39.39.9.59 1.41.59.51 0 1.02-.2 1.41-.59l7.78-7.78 2.81-2.81c.8-.78.8-2.07 0-2.86zM5.41 20L4 18.59l7.72-7.72 1.47 1.35L5.41 20z\"/>\n",
              "  </svg>\n",
              "      </button>\n",
              "      \n",
              "  <style>\n",
              "    .colab-df-container {\n",
              "      display:flex;\n",
              "      flex-wrap:wrap;\n",
              "      gap: 12px;\n",
              "    }\n",
              "\n",
              "    .colab-df-convert {\n",
              "      background-color: #E8F0FE;\n",
              "      border: none;\n",
              "      border-radius: 50%;\n",
              "      cursor: pointer;\n",
              "      display: none;\n",
              "      fill: #1967D2;\n",
              "      height: 32px;\n",
              "      padding: 0 0 0 0;\n",
              "      width: 32px;\n",
              "    }\n",
              "\n",
              "    .colab-df-convert:hover {\n",
              "      background-color: #E2EBFA;\n",
              "      box-shadow: 0px 1px 2px rgba(60, 64, 67, 0.3), 0px 1px 3px 1px rgba(60, 64, 67, 0.15);\n",
              "      fill: #174EA6;\n",
              "    }\n",
              "\n",
              "    [theme=dark] .colab-df-convert {\n",
              "      background-color: #3B4455;\n",
              "      fill: #D2E3FC;\n",
              "    }\n",
              "\n",
              "    [theme=dark] .colab-df-convert:hover {\n",
              "      background-color: #434B5C;\n",
              "      box-shadow: 0px 1px 3px 1px rgba(0, 0, 0, 0.15);\n",
              "      filter: drop-shadow(0px 1px 2px rgba(0, 0, 0, 0.3));\n",
              "      fill: #FFFFFF;\n",
              "    }\n",
              "  </style>\n",
              "\n",
              "      <script>\n",
              "        const buttonEl =\n",
              "          document.querySelector('#df-83324d5e-6b07-4878-b489-5b6ce2336111 button.colab-df-convert');\n",
              "        buttonEl.style.display =\n",
              "          google.colab.kernel.accessAllowed ? 'block' : 'none';\n",
              "\n",
              "        async function convertToInteractive(key) {\n",
              "          const element = document.querySelector('#df-83324d5e-6b07-4878-b489-5b6ce2336111');\n",
              "          const dataTable =\n",
              "            await google.colab.kernel.invokeFunction('convertToInteractive',\n",
              "                                                     [key], {});\n",
              "          if (!dataTable) return;\n",
              "\n",
              "          const docLinkHtml = 'Like what you see? Visit the ' +\n",
              "            '<a target=\"_blank\" href=https://colab.research.google.com/notebooks/data_table.ipynb>data table notebook</a>'\n",
              "            + ' to learn more about interactive tables.';\n",
              "          element.innerHTML = '';\n",
              "          dataTable['output_type'] = 'display_data';\n",
              "          await google.colab.output.renderOutput(dataTable, element);\n",
              "          const docLink = document.createElement('div');\n",
              "          docLink.innerHTML = docLinkHtml;\n",
              "          element.appendChild(docLink);\n",
              "        }\n",
              "      </script>\n",
              "    </div>\n",
              "  </div>\n",
              "  "
            ],
            "text/plain": [
              "                                                question  ...                               answer_text\n",
              "11877                What is heresy mainly at odds with?  ...            established beliefs or customs\n",
              "11878      What is a person called is practicing heresy?  ...                                 A heretic\n",
              "11879  What religions and idea of thought is heresy c...  ...  Christianity, Judaism, Islam and Marxism\n",
              "11880  What cultures are listed as examples of discip...  ...             Christian, Islamic and Jewish\n",
              "11881  What language does the term heresy find its ro...  ...                                     Greek\n",
              "\n",
              "[5 rows x 3 columns]"
            ]
          },
          "metadata": {},
          "execution_count": 11
        }
      ]
    },
    {
      "cell_type": "code",
      "metadata": {
        "colab": {
          "base_uri": "https://localhost:8080/",
          "height": 105
        },
        "id": "XKzZWy11Wasq",
        "outputId": "decddf59-a528-425e-d2d9-a0072e0b03d9"
      },
      "source": [
        "dev_df.iloc[0]['context']"
      ],
      "execution_count": null,
      "outputs": [
        {
          "output_type": "execute_result",
          "data": {
            "application/vnd.google.colaboratory.intrinsic+json": {
              "type": "string"
            },
            "text/plain": [
              "'Super Bowl 50 was an American football game to determine the champion of the National Football League (NFL) for the 2015 season. The American Football Conference (AFC) champion Denver Broncos defeated the National Football Conference (NFC) champion Carolina Panthers 24–10 to earn their third Super Bowl title. The game was played on February 7, 2016, at Levi\\'s Stadium in the San Francisco Bay Area at Santa Clara, California. As this was the 50th Super Bowl, the league emphasized the \"golden anniversary\" with various gold-themed initiatives, as well as temporarily suspending the tradition of naming each Super Bowl game with Roman numerals (under which the game would have been known as \"Super Bowl L\"), so that the logo could prominently feature the Arabic numerals 50.'"
            ]
          },
          "metadata": {},
          "execution_count": 12
        }
      ]
    },
    {
      "cell_type": "markdown",
      "metadata": {
        "id": "zzBSHEnsLYhm"
      },
      "source": [
        "#Training with a [ MASK]"
      ]
    },
    {
      "cell_type": "markdown",
      "metadata": {
        "id": "_uBauaewLYhy"
      },
      "source": [
        "Using a special `sep` token to separate the parts we want to predict and a `MASK` token to pass instead of the target answer when we don't want to do answer-aware question generation."
      ]
    },
    {
      "cell_type": "code",
      "metadata": {
        "id": "jV3nsPfQLYhy"
      },
      "source": [
        "SEP_TOKEN = '<sep>'\n",
        "MASKING_CHANCE = 0.3 #30% chance to replace the answer with '[MASK]'"
      ],
      "execution_count": null,
      "outputs": []
    },
    {
      "cell_type": "code",
      "metadata": {
        "id": "sgCdKhkhLYhz"
      },
      "source": [
        "class QGDataset(Dataset):\n",
        "\n",
        "    def __init__(\n",
        "        self,\n",
        "        data: pd.DataFrame,\n",
        "        tokenizer: T5Tokenizer,\n",
        "        source_max_token_len: int,\n",
        "        target_max_token_len: int\n",
        "        ):\n",
        "\n",
        "        self.tokenizer = tokenizer\n",
        "        self.data = data\n",
        "        self.source_max_token_len = source_max_token_len\n",
        "        self.target_max_token_len = target_max_token_len\n",
        "\n",
        "    def __len__(self):\n",
        "        return len(self.data)\n",
        "\n",
        "    def __getitem__(self, index: int):\n",
        "        data_row = self.data.iloc[index]\n",
        "\n",
        "        if np.random.rand() > MASKING_CHANCE:\n",
        "            answer = data_row['answer_text']\n",
        "        else:\n",
        "            answer = '[MASK]'\n",
        "\n",
        "        source_encoding = tokenizer(\n",
        "            '{} {} {}'.format(answer, SEP_TOKEN, data_row['context']),\n",
        "            max_length= self.source_max_token_len,\n",
        "            padding='max_length',\n",
        "            truncation= True,\n",
        "            return_attention_mask=True,\n",
        "            add_special_tokens=True,\n",
        "            return_tensors='pt'\n",
        "            )\n",
        "\n",
        "        target_encoding = tokenizer(\n",
        "            '{} {} {}'.format(data_row['answer_text'], SEP_TOKEN, data_row['question']),\n",
        "            max_length=self.target_max_token_len,\n",
        "            padding='max_length',\n",
        "            truncation = True,\n",
        "            return_attention_mask=True,\n",
        "            add_special_tokens=True,\n",
        "            return_tensors='pt'\n",
        "            )\n",
        "\n",
        "        labels = target_encoding['input_ids']\n",
        "        labels[labels == 0] = -100\n",
        "\n",
        "        return dict(\n",
        "            answer_text = data_row['answer_text'],\n",
        "            context = data_row['context'],\n",
        "            question = data_row['question'],\n",
        "            input_ids = source_encoding['input_ids'].flatten(),\n",
        "            attention_mask = source_encoding['attention_mask'].flatten(),\n",
        "            labels=labels.flatten()\n",
        "            )"
      ],
      "execution_count": null,
      "outputs": []
    },
    {
      "cell_type": "code",
      "metadata": {
        "id": "9gAO0iB0LYh0"
      },
      "source": [
        "class QGDataModule(pl.LightningDataModule):\n",
        "\n",
        "    def __init__(\n",
        "        self,\n",
        "        train_df: pd.DataFrame,\n",
        "        val_df: pd.DataFrame,\n",
        "        test_df: pd.DataFrame,\n",
        "        tokenizer: T5Tokenizer,\n",
        "        batch_size,\n",
        "        source_max_token_len: int,\n",
        "        target_max_token_len: int\n",
        "        ):\n",
        "        super().__init__()\n",
        "        self.batch_size = batch_size\n",
        "        self.train_df = train_df\n",
        "        self.val_df = val_df\n",
        "        self.test_df = test_df\n",
        "        self.tokenizer = tokenizer\n",
        "        self.source_max_token_len = source_max_token_len\n",
        "        self.target_max_token_len = target_max_token_len\n",
        "\n",
        "    def setup(self):\n",
        "        self.train_dataset = QGDataset(self.train_df, self.tokenizer, self.source_max_token_len, self.target_max_token_len)\n",
        "        self.val_dataset = QGDataset(self.val_df, self.tokenizer, self.source_max_token_len, self.target_max_token_len)\n",
        "        self.test_dataset = QGDataset(self.test_df, self.tokenizer, self.source_max_token_len, self.target_max_token_len)\n",
        "\n",
        "    def train_dataloader(self):\n",
        "        return DataLoader(self.train_dataset, batch_size = self.batch_size, shuffle=True, num_workers = 2)\n",
        "\n",
        "    def val_dataloader(self):\n",
        "        return DataLoader(self.val_dataset, batch_size=1, num_workers=2)\n",
        "\n",
        "    def test_dataloader(self):\n",
        "        return DataLoader(self.test_dataset, batch_size=1, num_workers=2)"
      ],
      "execution_count": null,
      "outputs": []
    },
    {
      "cell_type": "markdown",
      "metadata": {
        "id": "5JcEu55QLYh1"
      },
      "source": [
        "#### Testing DataModule"
      ]
    },
    {
      "cell_type": "code",
      "metadata": {
        "id": "utVAdsQDLYh1"
      },
      "source": [
        "# data_module = QGDataModule(train_df, dev_df, test_df, tokenizer, 2, 128, 64)\n",
        "# data_module.setup()"
      ],
      "execution_count": null,
      "outputs": []
    },
    {
      "cell_type": "markdown",
      "metadata": {
        "id": "MUfxr8xFLYh1"
      },
      "source": [
        "## Hyperparameters"
      ]
    },
    {
      "cell_type": "code",
      "metadata": {
        "id": "0dl9vMl6LYh2"
      },
      "source": [
        "MODEL_NAME = 't5-small'\n",
        "SOURCE_MAX_TOKEN_LEN = 300\n",
        "TARGET_MAX_TOKEN_LEN = 80\n",
        "\n",
        "N_EPOCHS = 5\n",
        "BATCH_SIZE = 16\n",
        "LEARNING_RATE = 0.0001"
      ],
      "execution_count": null,
      "outputs": []
    },
    {
      "cell_type": "code",
      "metadata": {
        "colab": {
          "base_uri": "https://localhost:8080/"
        },
        "id": "7G6VWLobLYh3",
        "outputId": "5f13f848-9cde-44f2-f291-601c34f03026"
      },
      "source": [
        "DF_TAKE_PERCENTAGE = 1\n",
        "\n",
        "TAKE_TRAIN = int(len(train_df) * DF_TAKE_PERCENTAGE)\n",
        "TAKE_DEV = int(len(dev_df) * DF_TAKE_PERCENTAGE)\n",
        "TAKE_TEST = int(len(test_df) * DF_TAKE_PERCENTAGE)\n",
        "\n",
        "print('Taking', DF_TAKE_PERCENTAGE * 100, '%')\n",
        "print(TAKE_TRAIN, 'of', len(train_df))\n",
        "print(TAKE_DEV, 'of', len(dev_df))\n",
        "print(TAKE_TEST, 'of', len(test_df))"
      ],
      "execution_count": null,
      "outputs": [
        {
          "output_type": "stream",
          "name": "stdout",
          "text": [
            "Taking 100 %\n",
            "75721 of 75721\n",
            "10570 of 10570\n",
            "11877 of 11877\n"
          ]
        }
      ]
    },
    {
      "cell_type": "markdown",
      "metadata": {
        "id": "UjmXIXrgLYh4"
      },
      "source": [
        "### Initializing training module"
      ]
    },
    {
      "cell_type": "code",
      "source": [
        "from google.colab import drive\n",
        "drive.mount('/content/drive')"
      ],
      "metadata": {
        "colab": {
          "base_uri": "https://localhost:8080/"
        },
        "id": "pVRNmOQMx-0N",
        "outputId": "388706ee-5037-487c-d2aa-05ed9c6c91f0"
      },
      "execution_count": null,
      "outputs": [
        {
          "output_type": "stream",
          "name": "stdout",
          "text": [
            "Drive already mounted at /content/drive; to attempt to forcibly remount, call drive.mount(\"/content/drive\", force_remount=True).\n"
          ]
        }
      ]
    },
    {
      "cell_type": "markdown",
      "metadata": {
        "id": "8Sy1ZTEiLYh4"
      },
      "source": [
        "#### Setting DataModule"
      ]
    },
    {
      "cell_type": "code",
      "metadata": {
        "colab": {
          "base_uri": "https://localhost:8080/"
        },
        "id": "8v4IcaOGLYh4",
        "outputId": "825cca95-cb25-4dde-812a-0d9fde5503de"
      },
      "source": [
        "print(train_df[:TAKE_TRAIN].shape, dev_df[:TAKE_DEV].shape, test_df[:TAKE_TEST].shape)\n",
        "\n",
        "tokenizer = T5Tokenizer.from_pretrained(MODEL_NAME)\n",
        "print('tokenizer len before: ', len(tokenizer))\n",
        "tokenizer.add_tokens(SEP_TOKEN)\n",
        "print('tokenizer len after: ', len(tokenizer))\n",
        "TOKENIZER_LEN = len(tokenizer)\n",
        "\n",
        "data_module = QGDataModule(train_df[:TAKE_TRAIN], dev_df[:TAKE_DEV], test_df[:TAKE_TEST], tokenizer, BATCH_SIZE, SOURCE_MAX_TOKEN_LEN, TARGET_MAX_TOKEN_LEN)\n",
        "data_module.setup()"
      ],
      "execution_count": null,
      "outputs": [
        {
          "output_type": "stream",
          "name": "stdout",
          "text": [
            "(75721, 3) (10570, 3) (11877, 3)\n",
            "tokenizer len before:  32100\n",
            "tokenizer len after:  32101\n"
          ]
        }
      ]
    },
    {
      "cell_type": "markdown",
      "metadata": {
        "id": "LO9ZORf_LYh5"
      },
      "source": [
        "#### Setting Model"
      ]
    },
    {
      "cell_type": "code",
      "metadata": {
        "id": "5v8Iex8iLYh6"
      },
      "source": [
        "class QGModel(pl.LightningModule):\n",
        "    def __init__(self):\n",
        "        super().__init__()\n",
        "        self.model = T5ForConditionalGeneration.from_pretrained(MODEL_NAME, return_dict=True)\n",
        "        self.model.resize_token_embeddings(TOKENIZER_LEN) #resizing after adding new tokens to the tokenizer\n",
        "\n",
        "    def forward(self, input_ids, attention_mask, labels=None):\n",
        "        output = self.model(input_ids=input_ids, attention_mask=attention_mask, labels=labels)\n",
        "        return output.loss, output.logits\n",
        "\n",
        "    def training_step(self, batch, batch_idx):\n",
        "        input_ids = batch['input_ids']\n",
        "        attention_mask = batch['attention_mask']\n",
        "        labels = batch['labels']\n",
        "        loss, output = self(input_ids, attention_mask, labels)\n",
        "        self.log('train_loss', loss, prog_bar=True, logger=True)\n",
        "        return loss\n",
        "\n",
        "    def validation_step(self, batch, batch_idx):\n",
        "        input_ids = batch['input_ids']\n",
        "        attention_mask = batch['attention_mask']\n",
        "        labels = batch['labels']\n",
        "        loss, output = self(input_ids, attention_mask, labels)\n",
        "        self.log('val_loss', loss, prog_bar=True, logger=True)\n",
        "        return loss\n",
        "\n",
        "    def test_step(self, batch, batch_idx):\n",
        "        input_ids = batch['input_ids']\n",
        "        attention_mask = batch['attention_mask']\n",
        "        labels = batch['labels']\n",
        "        loss, output = self(input_ids, attention_mask, labels)\n",
        "        self.log('test_loss', loss, prog_bar=True, logger=True)\n",
        "        return loss\n",
        "\n",
        "    def configure_optimizers(self):\n",
        "        return AdamW(self.parameters(), lr=LEARNING_RATE)"
      ],
      "execution_count": null,
      "outputs": []
    },
    {
      "cell_type": "markdown",
      "metadata": {
        "id": "w8qehtrYLYh6"
      },
      "source": [
        "#### Setting trainer"
      ]
    },
    {
      "cell_type": "code",
      "metadata": {
        "id": "TiamyOuBLYh6"
      },
      "source": [
        "if RUN_TRAINING_CELLS:\n",
        "    checkpoint_callback = ModelCheckpoint(\n",
        "        dirpath='checkpoints',\n",
        "        filename='best-checkpoint',\n",
        "        save_top_k=-1,\n",
        "        verbose=True,\n",
        "        monitor='val_loss',\n",
        "        mode='min'\n",
        "    )"
      ],
      "execution_count": null,
      "outputs": []
    },
    {
      "cell_type": "code",
      "metadata": {
        "colab": {
          "base_uri": "https://localhost:8080/"
        },
        "id": "9mJIxTiILYh7",
        "outputId": "d569a5bc-1c8c-498f-99ff-7e978fae868c"
      },
      "source": [
        "if RUN_TRAINING_CELLS:\n",
        "    trainer = pl.Trainer(\n",
        "        checkpoint_callback= checkpoint_callback,\n",
        "        max_epochs=N_EPOCHS,\n",
        "        gpus=0,\n",
        "        progress_bar_refresh_rate=30\n",
        "    )"
      ],
      "execution_count": null,
      "outputs": [
        {
          "output_type": "stream",
          "name": "stderr",
          "text": [
            "GPU available: False, used: False\n",
            "TPU available: False, using: 0 TPU cores\n"
          ]
        }
      ]
    },
    {
      "cell_type": "markdown",
      "metadata": {
        "id": "8dirfEwxLYh7"
      },
      "source": [
        "## Training"
      ]
    },
    {
      "cell_type": "code",
      "metadata": {
        "id": "VBT6ubhpLYh8"
      },
      "source": [
        "model = QGModel()\n",
        "model = QGModel.load_from_checkpoint('checkpoints/best-checkpoint-v3.ckpt')\n",
        "\n",
        "# trainer.fit(model, data_module)"
      ],
      "execution_count": null,
      "outputs": []
    },
    {
      "cell_type": "code",
      "source": [
        "trainer.test()"
      ],
      "metadata": {
        "id": "eN0ZALhR5mYf"
      },
      "execution_count": null,
      "outputs": []
    },
    {
      "cell_type": "markdown",
      "metadata": {
        "id": "X61Fd_QKLYh_"
      },
      "source": [
        "## Evaluate"
      ]
    },
    {
      "cell_type": "markdown",
      "metadata": {
        "id": "kekeQrMLLYh_"
      },
      "source": [
        "### Load model"
      ]
    },
    {
      "cell_type": "code",
      "metadata": {
        "colab": {
          "base_uri": "https://localhost:8080/"
        },
        "id": "jDG9_-wtLYh_",
        "outputId": "64177917-2b07-4b0a-ec9c-c3ec06bf7416"
      },
      "source": [
        "checkpoint_path = 'checkpoints/best-checkpoint-v3.ckpt'\n",
        "\n",
        "best_model = QGModel.load_from_checkpoint(checkpoint_path)\n",
        "best_model.freeze()\n",
        "best_model.eval()\n",
        "\n",
        "print()"
      ],
      "execution_count": null,
      "outputs": [
        {
          "output_type": "stream",
          "name": "stdout",
          "text": [
            "\n"
          ]
        }
      ]
    },
    {
      "cell_type": "markdown",
      "metadata": {
        "id": "7Mw4yRs8LYh_"
      },
      "source": [
        "### Common functions"
      ]
    },
    {
      "cell_type": "code",
      "metadata": {
        "colab": {
          "base_uri": "https://localhost:8080/",
          "height": 35
        },
        "id": "Xr6zTf6SLYiA",
        "outputId": "cc5cf3db-b8c4-4eac-c2e3-6d96647ee6c7"
      },
      "source": [
        "SEP_TOKEN"
      ],
      "execution_count": null,
      "outputs": [
        {
          "output_type": "execute_result",
          "data": {
            "application/vnd.google.colaboratory.intrinsic+json": {
              "type": "string"
            },
            "text/plain": [
              "'<sep>'"
            ]
          },
          "metadata": {},
          "execution_count": 24
        }
      ]
    },
    {
      "cell_type": "code",
      "metadata": {
        "id": "T0JOz2TQLYiC"
      },
      "source": [
        "def generate(qgmodel: QGModel, answer: str, context: str) -> str:\n",
        "    source_encoding = tokenizer(\n",
        "        '{} {} {}'.format(answer, SEP_TOKEN, context),\n",
        "        max_length=SOURCE_MAX_TOKEN_LEN,\n",
        "        padding='max_length',\n",
        "        truncation=True,\n",
        "        return_attention_mask=True,\n",
        "        add_special_tokens=True,\n",
        "        return_tensors='pt'\n",
        "    )\n",
        "\n",
        "    generated_ids = qgmodel.model.generate(\n",
        "        input_ids=source_encoding['input_ids'],\n",
        "        attention_mask=source_encoding['attention_mask'],\n",
        "        num_beams=1,\n",
        "        max_length=TARGET_MAX_TOKEN_LEN,\n",
        "        repetition_penalty=2.5,\n",
        "        length_penalty=1.0,\n",
        "        early_stopping=True,\n",
        "        use_cache=True\n",
        "    )\n",
        "\n",
        "    preds = {\n",
        "        tokenizer.decode(generated_id, skip_special_tokens=False, clean_up_tokenization_spaces=True)\n",
        "        for generated_id in generated_ids\n",
        "    }\n",
        "\n",
        "    return ''.join(preds)"
      ],
      "execution_count": null,
      "outputs": []
    },
    {
      "cell_type": "code",
      "metadata": {
        "id": "tu5dZ8m5LYiC"
      },
      "source": [
        "def show_result(generated: str, answer: str, context:str, original_question: str = ''):\n",
        "    print('Generated: ', generated)\n",
        "    if original_question:\n",
        "        print('Original : ', original_question)\n",
        "\n",
        "    print()\n",
        "    print('Answer: ', answer)\n",
        "    print('Conext: ', context)\n",
        "    print('-----------------------------')"
      ],
      "execution_count": null,
      "outputs": []
    },
    {
      "cell_type": "markdown",
      "metadata": {
        "id": "oI1ptbdvLYiC"
      },
      "source": [
        "### View results manually"
      ]
    },
    {
      "cell_type": "code",
      "metadata": {
        "colab": {
          "base_uri": "https://localhost:8080/"
        },
        "id": "vSTp_V0hLYiC",
        "outputId": "76bae2eb-44c5-42c4-834b-be589b441cd7"
      },
      "source": [
        "sample_question = test_df.iloc[42]\n",
        "\n",
        "generated = generate(best_model, sample_question['answer_text'], sample_question['context'])\n",
        "show_result(generated, sample_question['answer_text'], sample_question['context'], sample_question['question'])"
      ],
      "execution_count": null,
      "outputs": [
        {
          "output_type": "stream",
          "name": "stdout",
          "text": [
            "Generated:  <pad> 39.1%<sep> What percentage of the incoming class admitted to Notre Dame was under the early action plan?</s>\n",
            "Original :  What percentage of students at Notre Dame participated in the Early Action program?\n",
            "\n",
            "Answer:  39.1%\n",
            "Conext:  Notre Dame is known for its competitive admissions, with the incoming class enrolling in fall 2015 admitting 3,577 from a pool of 18,156 (19.7%). The academic profile of the enrolled class continues to rate among the top 10 to 15 in the nation for national research universities. The university practices a non-restrictive early action policy that allows admitted students to consider admission to Notre Dame as well as any other colleges to which they were accepted. 1,400 of the 3,577 (39.1%) were admitted under the early action plan. Admitted students came from 1,311 high schools and the average student traveled more than 750 miles to Notre Dame, making it arguably the most representative university in the United States. While all entering students begin in the College of the First Year of Studies, 25% have indicated they plan to study in the liberal arts or social sciences, 24% in engineering, 24% in business, 24% in science, and 3% in architecture.\n",
            "-----------------------------\n"
          ]
        }
      ]
    },
    {
      "cell_type": "code",
      "metadata": {
        "colab": {
          "base_uri": "https://localhost:8080/"
        },
        "id": "2Pa_0wsQLYiD",
        "outputId": "69565531-235b-4b30-d3fa-32e1db8148a6"
      },
      "source": [
        "context = 'Oxygen is the chemical element with the symbol O and atomic number 8.'\n",
        "answer = 'Oxygen'\n",
        "\n",
        "generated = generate(best_model, answer, context)\n",
        "\n",
        "show_result(generated, answer, context)"
      ],
      "execution_count": null,
      "outputs": [
        {
          "output_type": "stream",
          "name": "stdout",
          "text": [
            "Generated:  <pad> Oxygen<sep> What is the chemical element with the symbol O?</s>\n",
            "\n",
            "Answer:  Oxygen\n",
            "Conext:  Oxygen is the chemical element with the symbol O and atomic number 8.\n",
            "-----------------------------\n"
          ]
        }
      ]
    },
    {
      "cell_type": "code",
      "metadata": {
        "colab": {
          "base_uri": "https://localhost:8080/"
        },
        "id": "cvzBxXA3LYiE",
        "outputId": "27b7bc4b-28b0-4acf-f2b5-01fd498e98cd"
      },
      "source": [
        "context = 'Oxygen is the chemical element with the symbol O and atomic number 8.'\n",
        "answer = 'Oxygen'\n",
        "input_answer = '[MASK]'\n",
        "\n",
        "generated = generate(best_model, input_answer, context)\n",
        "\n",
        "show_result(generated, answer, context)"
      ],
      "execution_count": null,
      "outputs": [
        {
          "output_type": "stream",
          "name": "stdout",
          "text": [
            "Generated:  <pad> Oxygen<sep> What is the chemical element with the symbol O?</s>\n",
            "\n",
            "Answer:  Oxygen\n",
            "Conext:  Oxygen is the chemical element with the symbol O and atomic number 8.\n",
            "-----------------------------\n"
          ]
        }
      ]
    },
    {
      "cell_type": "markdown",
      "metadata": {
        "id": "v9XbCIEEbH92"
      },
      "source": [
        "#### Answer-aware question generation"
      ]
    },
    {
      "cell_type": "code",
      "metadata": {
        "colab": {
          "base_uri": "https://localhost:8080/"
        },
        "id": "wAXkOIxLLYiE",
        "outputId": "645d15a1-86d2-4df4-851c-ffa2cc080931"
      },
      "source": [
        "for i in range(len(test_df[:10])):\n",
        "    context = test_df.iloc[i]['context']\n",
        "    answer = test_df.iloc[i]['answer_text']\n",
        "\n",
        "    generated = generate(best_model, answer, context)\n",
        "\n",
        "    show_result(generated, answer, context, test_df.iloc[i]['question'])"
      ],
      "execution_count": null,
      "outputs": [
        {
          "output_type": "stream",
          "name": "stdout",
          "text": [
            "Generated:  <pad> Saint Bernadette Soubirous<sep> Who was the Virgin Mary repute to have appeared in 1858?</s>\n",
            "Original :  To whom did the Virgin Mary allegedly appear in 1858 in Lourdes France?\n",
            "\n",
            "Answer:  Saint Bernadette Soubirous\n",
            "Conext:  Architecturally, the school has a Catholic character. Atop the Main Building's gold dome is a golden statue of the Virgin Mary. Immediately in front of the Main Building and facing it, is a copper statue of Christ with arms upraised with the legend \"Venite Ad Me Omnes\". Next to the Main Building is the Basilica of the Sacred Heart. Immediately behind the basilica is the Grotto, a Marian place of prayer and reflection. It is a replica of the grotto at Lourdes, France where the Virgin Mary reputedly appeared to Saint Bernadette Soubirous in 1858. At the end of the main drive (and in a direct line that connects through 3 statues and the Gold Dome), is a simple, modern stone statue of Mary.\n",
            "-----------------------------\n",
            "Generated:  <pad> a copper statue of Christ<sep> What is the name of the statue that stands in front of the Main Building?</s>\n",
            "Original :  What is in front of the Notre Dame Main Building?\n",
            "\n",
            "Answer:  a copper statue of Christ\n",
            "Conext:  Architecturally, the school has a Catholic character. Atop the Main Building's gold dome is a golden statue of the Virgin Mary. Immediately in front of the Main Building and facing it, is a copper statue of Christ with arms upraised with the legend \"Venite Ad Me Omnes\". Next to the Main Building is the Basilica of the Sacred Heart. Immediately behind the basilica is the Grotto, a Marian place of prayer and reflection. It is a replica of the grotto at Lourdes, France where the Virgin Mary reputedly appeared to Saint Bernadette Soubirous in 1858. At the end of the main drive (and in a direct line that connects through 3 statues and the Gold Dome), is a simple, modern stone statue of Mary.\n",
            "-----------------------------\n",
            "Generated:  <pad> the Main Building<sep> Where is the Basilica of the Sacred Heart located?</s>\n",
            "Original :  The Basilica of the Sacred heart at Notre Dame is beside to which structure?\n",
            "\n",
            "Answer:  the Main Building\n",
            "Conext:  Architecturally, the school has a Catholic character. Atop the Main Building's gold dome is a golden statue of the Virgin Mary. Immediately in front of the Main Building and facing it, is a copper statue of Christ with arms upraised with the legend \"Venite Ad Me Omnes\". Next to the Main Building is the Basilica of the Sacred Heart. Immediately behind the basilica is the Grotto, a Marian place of prayer and reflection. It is a replica of the grotto at Lourdes, France where the Virgin Mary reputedly appeared to Saint Bernadette Soubirous in 1858. At the end of the main drive (and in a direct line that connects through 3 statues and the Gold Dome), is a simple, modern stone statue of Mary.\n",
            "-----------------------------\n",
            "Generated:  <pad> a Marian place of prayer and reflection<sep> What is the Grotto?</s>\n",
            "Original :  What is the Grotto at Notre Dame?\n",
            "\n",
            "Answer:  a Marian place of prayer and reflection\n",
            "Conext:  Architecturally, the school has a Catholic character. Atop the Main Building's gold dome is a golden statue of the Virgin Mary. Immediately in front of the Main Building and facing it, is a copper statue of Christ with arms upraised with the legend \"Venite Ad Me Omnes\". Next to the Main Building is the Basilica of the Sacred Heart. Immediately behind the basilica is the Grotto, a Marian place of prayer and reflection. It is a replica of the grotto at Lourdes, France where the Virgin Mary reputedly appeared to Saint Bernadette Soubirous in 1858. At the end of the main drive (and in a direct line that connects through 3 statues and the Gold Dome), is a simple, modern stone statue of Mary.\n",
            "-----------------------------\n",
            "Generated:  <pad> a golden statue of the Virgin Mary<sep> What is on the main building's gold dome?</s>\n",
            "Original :  What sits on top of the Main Building at Notre Dame?\n",
            "\n",
            "Answer:  a golden statue of the Virgin Mary\n",
            "Conext:  Architecturally, the school has a Catholic character. Atop the Main Building's gold dome is a golden statue of the Virgin Mary. Immediately in front of the Main Building and facing it, is a copper statue of Christ with arms upraised with the legend \"Venite Ad Me Omnes\". Next to the Main Building is the Basilica of the Sacred Heart. Immediately behind the basilica is the Grotto, a Marian place of prayer and reflection. It is a replica of the grotto at Lourdes, France where the Virgin Mary reputedly appeared to Saint Bernadette Soubirous in 1858. At the end of the main drive (and in a direct line that connects through 3 statues and the Gold Dome), is a simple, modern stone statue of Mary.\n",
            "-----------------------------\n",
            "Generated:  <pad> September 1876<sep> When was the Scholastic magazine published?</s>\n",
            "Original :  When did the Scholastic Magazine of Notre dame begin publishing?\n",
            "\n",
            "Answer:  September 1876\n",
            "Conext:  As at most other universities, Notre Dame's students run a number of news media outlets. The nine student-run outlets include three newspapers, both a radio and television station, and several magazines and journals. Begun as a one-page journal in September 1876, the Scholastic magazine is issued twice monthly and claims to be the oldest continuous collegiate publication in the United States. The other magazine, The Juggler, is released twice a year and focuses on student literature and artwork. The Dome yearbook is published annually. The newspapers have varying publication interests, with The Observer published daily and mainly reporting university and other news, and staffed by students from both Notre Dame and Saint Mary's College. Unlike Scholastic and The Dome, The Observer is an independent publication and does not have a faculty advisor or any editorial oversight from the University. In 1987, when some students believed that The Observer began to show a conservative bias, a liberal newspaper, Common Sense was published. Likewise, in 2003, when other students believed that the paper showed a liberal bias, the conservative paper Irish Rover went into production. Neither paper is published as often as The Observer; however, all three are distributed to all students. Finally, in Spring 2008 an undergraduate journal for political science research, Beyond Politics, made its debut.\n",
            "-----------------------------\n",
            "Generated:  <pad> twice<sep> How often is The Juggler published?</s>\n",
            "Original :  How often is Notre Dame's the Juggler published?\n",
            "\n",
            "Answer:  twice\n",
            "Conext:  As at most other universities, Notre Dame's students run a number of news media outlets. The nine student-run outlets include three newspapers, both a radio and television station, and several magazines and journals. Begun as a one-page journal in September 1876, the Scholastic magazine is issued twice monthly and claims to be the oldest continuous collegiate publication in the United States. The other magazine, The Juggler, is released twice a year and focuses on student literature and artwork. The Dome yearbook is published annually. The newspapers have varying publication interests, with The Observer published daily and mainly reporting university and other news, and staffed by students from both Notre Dame and Saint Mary's College. Unlike Scholastic and The Dome, The Observer is an independent publication and does not have a faculty advisor or any editorial oversight from the University. In 1987, when some students believed that The Observer began to show a conservative bias, a liberal newspaper, Common Sense was published. Likewise, in 2003, when other students believed that the paper showed a liberal bias, the conservative paper Irish Rover went into production. Neither paper is published as often as The Observer; however, all three are distributed to all students. Finally, in Spring 2008 an undergraduate journal for political science research, Beyond Politics, made its debut.\n",
            "-----------------------------\n",
            "Generated:  <pad> The Observer<sep> What newspaper is published daily and mainly reporting university news?</s>\n",
            "Original :  What is the daily student paper at Notre Dame called?\n",
            "\n",
            "Answer:  The Observer\n",
            "Conext:  As at most other universities, Notre Dame's students run a number of news media outlets. The nine student-run outlets include three newspapers, both a radio and television station, and several magazines and journals. Begun as a one-page journal in September 1876, the Scholastic magazine is issued twice monthly and claims to be the oldest continuous collegiate publication in the United States. The other magazine, The Juggler, is released twice a year and focuses on student literature and artwork. The Dome yearbook is published annually. The newspapers have varying publication interests, with The Observer published daily and mainly reporting university and other news, and staffed by students from both Notre Dame and Saint Mary's College. Unlike Scholastic and The Dome, The Observer is an independent publication and does not have a faculty advisor or any editorial oversight from the University. In 1987, when some students believed that The Observer began to show a conservative bias, a liberal newspaper, Common Sense was published. Likewise, in 2003, when other students believed that the paper showed a liberal bias, the conservative paper Irish Rover went into production. Neither paper is published as often as The Observer; however, all three are distributed to all students. Finally, in Spring 2008 an undergraduate journal for political science research, Beyond Politics, made its debut.\n",
            "-----------------------------\n",
            "Generated:  <pad> three<sep> How many newspapers are in Notre Dame's nine student-run outlets?</s>\n",
            "Original :  How many student news papers are found at Notre Dame?\n",
            "\n",
            "Answer:  three\n",
            "Conext:  As at most other universities, Notre Dame's students run a number of news media outlets. The nine student-run outlets include three newspapers, both a radio and television station, and several magazines and journals. Begun as a one-page journal in September 1876, the Scholastic magazine is issued twice monthly and claims to be the oldest continuous collegiate publication in the United States. The other magazine, The Juggler, is released twice a year and focuses on student literature and artwork. The Dome yearbook is published annually. The newspapers have varying publication interests, with The Observer published daily and mainly reporting university and other news, and staffed by students from both Notre Dame and Saint Mary's College. Unlike Scholastic and The Dome, The Observer is an independent publication and does not have a faculty advisor or any editorial oversight from the University. In 1987, when some students believed that The Observer began to show a conservative bias, a liberal newspaper, Common Sense was published. Likewise, in 2003, when other students believed that the paper showed a liberal bias, the conservative paper Irish Rover went into production. Neither paper is published as often as The Observer; however, all three are distributed to all students. Finally, in Spring 2008 an undergraduate journal for political science research, Beyond Politics, made its debut.\n",
            "-----------------------------\n",
            "Generated:  <pad> 1987<sep> When did some students believe that The Observer began to show a conservative bias?</s>\n",
            "Original :  In what year did the student paper Common Sense begin publication at Notre Dame?\n",
            "\n",
            "Answer:  1987\n",
            "Conext:  As at most other universities, Notre Dame's students run a number of news media outlets. The nine student-run outlets include three newspapers, both a radio and television station, and several magazines and journals. Begun as a one-page journal in September 1876, the Scholastic magazine is issued twice monthly and claims to be the oldest continuous collegiate publication in the United States. The other magazine, The Juggler, is released twice a year and focuses on student literature and artwork. The Dome yearbook is published annually. The newspapers have varying publication interests, with The Observer published daily and mainly reporting university and other news, and staffed by students from both Notre Dame and Saint Mary's College. Unlike Scholastic and The Dome, The Observer is an independent publication and does not have a faculty advisor or any editorial oversight from the University. In 1987, when some students believed that The Observer began to show a conservative bias, a liberal newspaper, Common Sense was published. Likewise, in 2003, when other students believed that the paper showed a liberal bias, the conservative paper Irish Rover went into production. Neither paper is published as often as The Observer; however, all three are distributed to all students. Finally, in Spring 2008 an undergraduate journal for political science research, Beyond Politics, made its debut.\n",
            "-----------------------------\n"
          ]
        }
      ]
    },
    {
      "cell_type": "markdown",
      "metadata": {
        "id": "_XVz-Z_0bLY2"
      },
      "source": [
        "#### Generating both answer and question"
      ]
    },
    {
      "cell_type": "code",
      "metadata": {
        "colab": {
          "base_uri": "https://localhost:8080/"
        },
        "id": "o6tpLqLmLYiE",
        "outputId": "08806607-afdf-488a-996b-23477df2dfd2"
      },
      "source": [
        "for i in range(len(test_df[:10])):\n",
        "    context = test_df.iloc[i]['context']\n",
        "    original_answer = test_df.iloc[i]['answer_text']\n",
        "    input_answer = '[MASK]'\n",
        "\n",
        "    generated = generate(best_model, input_answer, context)\n",
        "\n",
        "    show_result(generated, original_answer, context, test_df.iloc[i]['question'])"
      ],
      "execution_count": null,
      "outputs": [
        {
          "output_type": "stream",
          "name": "stdout",
          "text": [
            "Generated:  <pad> the Grotto<sep> What is the name of the Marian place of prayer and reflection?</s>\n",
            "Original :  To whom did the Virgin Mary allegedly appear in 1858 in Lourdes France?\n",
            "\n",
            "Answer:  Saint Bernadette Soubirous\n",
            "Conext:  Architecturally, the school has a Catholic character. Atop the Main Building's gold dome is a golden statue of the Virgin Mary. Immediately in front of the Main Building and facing it, is a copper statue of Christ with arms upraised with the legend \"Venite Ad Me Omnes\". Next to the Main Building is the Basilica of the Sacred Heart. Immediately behind the basilica is the Grotto, a Marian place of prayer and reflection. It is a replica of the grotto at Lourdes, France where the Virgin Mary reputedly appeared to Saint Bernadette Soubirous in 1858. At the end of the main drive (and in a direct line that connects through 3 statues and the Gold Dome), is a simple, modern stone statue of Mary.\n",
            "-----------------------------\n",
            "Generated:  <pad> the Grotto<sep> What is the name of the Marian place of prayer and reflection?</s>\n",
            "Original :  What is in front of the Notre Dame Main Building?\n",
            "\n",
            "Answer:  a copper statue of Christ\n",
            "Conext:  Architecturally, the school has a Catholic character. Atop the Main Building's gold dome is a golden statue of the Virgin Mary. Immediately in front of the Main Building and facing it, is a copper statue of Christ with arms upraised with the legend \"Venite Ad Me Omnes\". Next to the Main Building is the Basilica of the Sacred Heart. Immediately behind the basilica is the Grotto, a Marian place of prayer and reflection. It is a replica of the grotto at Lourdes, France where the Virgin Mary reputedly appeared to Saint Bernadette Soubirous in 1858. At the end of the main drive (and in a direct line that connects through 3 statues and the Gold Dome), is a simple, modern stone statue of Mary.\n",
            "-----------------------------\n",
            "Generated:  <pad> the Grotto<sep> What is the name of the Marian place of prayer and reflection?</s>\n",
            "Original :  The Basilica of the Sacred heart at Notre Dame is beside to which structure?\n",
            "\n",
            "Answer:  the Main Building\n",
            "Conext:  Architecturally, the school has a Catholic character. Atop the Main Building's gold dome is a golden statue of the Virgin Mary. Immediately in front of the Main Building and facing it, is a copper statue of Christ with arms upraised with the legend \"Venite Ad Me Omnes\". Next to the Main Building is the Basilica of the Sacred Heart. Immediately behind the basilica is the Grotto, a Marian place of prayer and reflection. It is a replica of the grotto at Lourdes, France where the Virgin Mary reputedly appeared to Saint Bernadette Soubirous in 1858. At the end of the main drive (and in a direct line that connects through 3 statues and the Gold Dome), is a simple, modern stone statue of Mary.\n",
            "-----------------------------\n",
            "Generated:  <pad> the Grotto<sep> What is the name of the Marian place of prayer and reflection?</s>\n",
            "Original :  What is the Grotto at Notre Dame?\n",
            "\n",
            "Answer:  a Marian place of prayer and reflection\n",
            "Conext:  Architecturally, the school has a Catholic character. Atop the Main Building's gold dome is a golden statue of the Virgin Mary. Immediately in front of the Main Building and facing it, is a copper statue of Christ with arms upraised with the legend \"Venite Ad Me Omnes\". Next to the Main Building is the Basilica of the Sacred Heart. Immediately behind the basilica is the Grotto, a Marian place of prayer and reflection. It is a replica of the grotto at Lourdes, France where the Virgin Mary reputedly appeared to Saint Bernadette Soubirous in 1858. At the end of the main drive (and in a direct line that connects through 3 statues and the Gold Dome), is a simple, modern stone statue of Mary.\n",
            "-----------------------------\n",
            "Generated:  <pad> the Grotto<sep> What is the name of the Marian place of prayer and reflection?</s>\n",
            "Original :  What sits on top of the Main Building at Notre Dame?\n",
            "\n",
            "Answer:  a golden statue of the Virgin Mary\n",
            "Conext:  Architecturally, the school has a Catholic character. Atop the Main Building's gold dome is a golden statue of the Virgin Mary. Immediately in front of the Main Building and facing it, is a copper statue of Christ with arms upraised with the legend \"Venite Ad Me Omnes\". Next to the Main Building is the Basilica of the Sacred Heart. Immediately behind the basilica is the Grotto, a Marian place of prayer and reflection. It is a replica of the grotto at Lourdes, France where the Virgin Mary reputedly appeared to Saint Bernadette Soubirous in 1858. At the end of the main drive (and in a direct line that connects through 3 statues and the Gold Dome), is a simple, modern stone statue of Mary.\n",
            "-----------------------------\n",
            "Generated:  <pad> The Observer<sep> What newspaper is published daily and mainly reporting university news?</s>\n",
            "Original :  When did the Scholastic Magazine of Notre dame begin publishing?\n",
            "\n",
            "Answer:  September 1876\n",
            "Conext:  As at most other universities, Notre Dame's students run a number of news media outlets. The nine student-run outlets include three newspapers, both a radio and television station, and several magazines and journals. Begun as a one-page journal in September 1876, the Scholastic magazine is issued twice monthly and claims to be the oldest continuous collegiate publication in the United States. The other magazine, The Juggler, is released twice a year and focuses on student literature and artwork. The Dome yearbook is published annually. The newspapers have varying publication interests, with The Observer published daily and mainly reporting university and other news, and staffed by students from both Notre Dame and Saint Mary's College. Unlike Scholastic and The Dome, The Observer is an independent publication and does not have a faculty advisor or any editorial oversight from the University. In 1987, when some students believed that The Observer began to show a conservative bias, a liberal newspaper, Common Sense was published. Likewise, in 2003, when other students believed that the paper showed a liberal bias, the conservative paper Irish Rover went into production. Neither paper is published as often as The Observer; however, all three are distributed to all students. Finally, in Spring 2008 an undergraduate journal for political science research, Beyond Politics, made its debut.\n",
            "-----------------------------\n",
            "Generated:  <pad> The Observer<sep> What newspaper is published daily and mainly reporting university news?</s>\n",
            "Original :  How often is Notre Dame's the Juggler published?\n",
            "\n",
            "Answer:  twice\n",
            "Conext:  As at most other universities, Notre Dame's students run a number of news media outlets. The nine student-run outlets include three newspapers, both a radio and television station, and several magazines and journals. Begun as a one-page journal in September 1876, the Scholastic magazine is issued twice monthly and claims to be the oldest continuous collegiate publication in the United States. The other magazine, The Juggler, is released twice a year and focuses on student literature and artwork. The Dome yearbook is published annually. The newspapers have varying publication interests, with The Observer published daily and mainly reporting university and other news, and staffed by students from both Notre Dame and Saint Mary's College. Unlike Scholastic and The Dome, The Observer is an independent publication and does not have a faculty advisor or any editorial oversight from the University. In 1987, when some students believed that The Observer began to show a conservative bias, a liberal newspaper, Common Sense was published. Likewise, in 2003, when other students believed that the paper showed a liberal bias, the conservative paper Irish Rover went into production. Neither paper is published as often as The Observer; however, all three are distributed to all students. Finally, in Spring 2008 an undergraduate journal for political science research, Beyond Politics, made its debut.\n",
            "-----------------------------\n",
            "Generated:  <pad> The Observer<sep> What newspaper is published daily and mainly reporting university news?</s>\n",
            "Original :  What is the daily student paper at Notre Dame called?\n",
            "\n",
            "Answer:  The Observer\n",
            "Conext:  As at most other universities, Notre Dame's students run a number of news media outlets. The nine student-run outlets include three newspapers, both a radio and television station, and several magazines and journals. Begun as a one-page journal in September 1876, the Scholastic magazine is issued twice monthly and claims to be the oldest continuous collegiate publication in the United States. The other magazine, The Juggler, is released twice a year and focuses on student literature and artwork. The Dome yearbook is published annually. The newspapers have varying publication interests, with The Observer published daily and mainly reporting university and other news, and staffed by students from both Notre Dame and Saint Mary's College. Unlike Scholastic and The Dome, The Observer is an independent publication and does not have a faculty advisor or any editorial oversight from the University. In 1987, when some students believed that The Observer began to show a conservative bias, a liberal newspaper, Common Sense was published. Likewise, in 2003, when other students believed that the paper showed a liberal bias, the conservative paper Irish Rover went into production. Neither paper is published as often as The Observer; however, all three are distributed to all students. Finally, in Spring 2008 an undergraduate journal for political science research, Beyond Politics, made its debut.\n",
            "-----------------------------\n",
            "Generated:  <pad> The Observer<sep> What newspaper is published daily and mainly reporting university news?</s>\n",
            "Original :  How many student news papers are found at Notre Dame?\n",
            "\n",
            "Answer:  three\n",
            "Conext:  As at most other universities, Notre Dame's students run a number of news media outlets. The nine student-run outlets include three newspapers, both a radio and television station, and several magazines and journals. Begun as a one-page journal in September 1876, the Scholastic magazine is issued twice monthly and claims to be the oldest continuous collegiate publication in the United States. The other magazine, The Juggler, is released twice a year and focuses on student literature and artwork. The Dome yearbook is published annually. The newspapers have varying publication interests, with The Observer published daily and mainly reporting university and other news, and staffed by students from both Notre Dame and Saint Mary's College. Unlike Scholastic and The Dome, The Observer is an independent publication and does not have a faculty advisor or any editorial oversight from the University. In 1987, when some students believed that The Observer began to show a conservative bias, a liberal newspaper, Common Sense was published. Likewise, in 2003, when other students believed that the paper showed a liberal bias, the conservative paper Irish Rover went into production. Neither paper is published as often as The Observer; however, all three are distributed to all students. Finally, in Spring 2008 an undergraduate journal for political science research, Beyond Politics, made its debut.\n",
            "-----------------------------\n",
            "Generated:  <pad> The Observer<sep> What newspaper is published daily and mainly reporting university news?</s>\n",
            "Original :  In what year did the student paper Common Sense begin publication at Notre Dame?\n",
            "\n",
            "Answer:  1987\n",
            "Conext:  As at most other universities, Notre Dame's students run a number of news media outlets. The nine student-run outlets include three newspapers, both a radio and television station, and several magazines and journals. Begun as a one-page journal in September 1876, the Scholastic magazine is issued twice monthly and claims to be the oldest continuous collegiate publication in the United States. The other magazine, The Juggler, is released twice a year and focuses on student literature and artwork. The Dome yearbook is published annually. The newspapers have varying publication interests, with The Observer published daily and mainly reporting university and other news, and staffed by students from both Notre Dame and Saint Mary's College. Unlike Scholastic and The Dome, The Observer is an independent publication and does not have a faculty advisor or any editorial oversight from the University. In 1987, when some students believed that The Observer began to show a conservative bias, a liberal newspaper, Common Sense was published. Likewise, in 2003, when other students believed that the paper showed a liberal bias, the conservative paper Irish Rover went into production. Neither paper is published as often as The Observer; however, all three are distributed to all students. Finally, in Spring 2008 an undergraduate journal for political science research, Beyond Politics, made its debut.\n",
            "-----------------------------\n"
          ]
        }
      ]
    },
    {
      "cell_type": "markdown",
      "metadata": {
        "id": "_FenZQuRzZfP"
      },
      "source": [
        "# Loading model for evaluation"
      ]
    },
    {
      "cell_type": "code",
      "metadata": {
        "id": "ao4yopQ22PGC"
      },
      "source": [
        "MODEL_NAME = 't5-small'\n",
        "SOURCE_MAX_TOKEN_LEN = 300\n",
        "TARGET_MAX_TOKEN_LEN = 80\n",
        "SEP_TOKEN = '<sep>'\n",
        "\n",
        "tokenizer = T5Tokenizer.from_pretrained(MODEL_NAME)\n",
        "tokenizer.add_tokens(SEP_TOKEN)\n",
        "TOKENIZER_LEN = len(tokenizer)"
      ],
      "execution_count": null,
      "outputs": []
    },
    {
      "cell_type": "code",
      "metadata": {
        "id": "mnuMC61317jD"
      },
      "source": [
        "class QGModel(pl.LightningModule):\n",
        "    def __init__(self):\n",
        "        super().__init__()\n",
        "        self.model = T5ForConditionalGeneration.from_pretrained(MODEL_NAME, return_dict=True)\n",
        "        self.model.resize_token_embeddings(TOKENIZER_LEN) #resizing after adding new tokens to the tokenizer\n",
        "\n",
        "    def forward(self, input_ids, attention_mask, labels=None):\n",
        "        output = self.model(input_ids=input_ids, attention_mask=attention_mask, labels=labels)\n",
        "        return output.loss, output.logits\n",
        "\n",
        "    def training_step(self, batch, batch_idx):\n",
        "        input_ids = batch['input_ids']\n",
        "        attention_mask = batch['attention_mask']\n",
        "        labels = batch['labels']\n",
        "        loss, output = self(input_ids, attention_mask, labels)\n",
        "        self.log('train_loss', loss, prog_bar=True, logger=True)\n",
        "        return loss\n",
        "\n",
        "    def validation_step(self, batch, batch_idx):\n",
        "        input_ids = batch['input_ids']\n",
        "        attention_mask = batch['attention_mask']\n",
        "        labels = batch['labels']\n",
        "        loss, output = self(input_ids, attention_mask, labels)\n",
        "        self.log('val_loss', loss, prog_bar=True, logger=True)\n",
        "        return loss\n",
        "\n",
        "    def test_step(self, batch, batch_idx):\n",
        "        input_ids = batch['input_ids']\n",
        "        attention_mask = batch['attention_mask']\n",
        "        labels = batch['labels']\n",
        "        loss, output = self(input_ids, attention_mask, labels)\n",
        "        self.log('test_loss', loss, prog_bar=True, logger=True)\n",
        "        return loss\n",
        "\n",
        "    def configure_optimizers(self):\n",
        "        return AdamW(self.parameters(), lr=LEARNING_RATE)"
      ],
      "execution_count": null,
      "outputs": []
    },
    {
      "cell_type": "code",
      "metadata": {
        "colab": {
          "base_uri": "https://localhost:8080/"
        },
        "id": "ejXJBjbI12fz",
        "outputId": "fa5902d5-6f7f-47e3-f72e-d679cf09c02f"
      },
      "source": [
        "checkpoint_path = 'checkpoints/best-checkpoint-v3.ckpt'\n",
        "\n",
        "best_model = QGModel.load_from_checkpoint(checkpoint_path)\n",
        "best_model.freeze()\n",
        "best_model.eval()\n",
        "\n",
        "print()"
      ],
      "execution_count": null,
      "outputs": [
        {
          "output_type": "stream",
          "name": "stdout",
          "text": [
            "\n"
          ]
        }
      ]
    },
    {
      "cell_type": "code",
      "metadata": {
        "id": "cSajqzcA2Hq7"
      },
      "source": [
        "def generate(qgmodel: QGModel, answer: str, context: str) -> str:\n",
        "    source_encoding = tokenizer(\n",
        "        '{} {} {}'.format(answer, SEP_TOKEN, context),\n",
        "        max_length=SOURCE_MAX_TOKEN_LEN,\n",
        "        padding='max_length',\n",
        "        truncation=True,\n",
        "        return_attention_mask=True,\n",
        "        add_special_tokens=True,\n",
        "        return_tensors='pt'\n",
        "    )\n",
        "\n",
        "    generated_ids = qgmodel.model.generate(\n",
        "        input_ids=source_encoding['input_ids'],\n",
        "        attention_mask=source_encoding['attention_mask'],\n",
        "        num_beams=1,\n",
        "        max_length=TARGET_MAX_TOKEN_LEN,\n",
        "        repetition_penalty=1.0,\n",
        "        length_penalty=1.0,\n",
        "        early_stopping=True,\n",
        "        use_cache=True\n",
        "    )\n",
        "\n",
        "    preds = {\n",
        "        tokenizer.decode(generated_id, skip_special_tokens=True, clean_up_tokenization_spaces=True)\n",
        "        for generated_id in generated_ids\n",
        "    }\n",
        "\n",
        "    return ''.join(preds)"
      ],
      "execution_count": null,
      "outputs": []
    },
    {
      "cell_type": "code",
      "metadata": {
        "id": "4ACoXqvF2Ty_"
      },
      "source": [
        "def show_result(generated: str, answer: str, context:str, original_question: str = ''):\n",
        "    print('Generated: ', generated)\n",
        "    if original_question:\n",
        "        print('Original : ', original_question)\n",
        "\n",
        "    print()\n",
        "    print('Answer: ', answer)\n",
        "    print('Conext: ', context)\n",
        "    print('-----------------------------')"
      ],
      "execution_count": null,
      "outputs": []
    },
    {
      "cell_type": "code",
      "metadata": {
        "colab": {
          "base_uri": "https://localhost:8080/"
        },
        "id": "TwicWmzi977N",
        "outputId": "cc97e825-a6bc-4043-f985-c21c6024d6e7"
      },
      "source": [
        "sample_question = test_df.iloc[42]\n",
        "\n",
        "generated = generate(best_model, sample_question['answer_text'], sample_question['context'])\n",
        "show_result(generated, sample_question['answer_text'], sample_question['context'], sample_question['question'])"
      ],
      "execution_count": null,
      "outputs": [
        {
          "output_type": "stream",
          "name": "stdout",
          "text": [
            "Generated:  39.1%<sep> What percentage of the incoming class admitted to Notre Dame was under the early action plan?\n",
            "Original :  What percentage of students at Notre Dame participated in the Early Action program?\n",
            "\n",
            "Answer:  39.1%\n",
            "Conext:  Notre Dame is known for its competitive admissions, with the incoming class enrolling in fall 2015 admitting 3,577 from a pool of 18,156 (19.7%). The academic profile of the enrolled class continues to rate among the top 10 to 15 in the nation for national research universities. The university practices a non-restrictive early action policy that allows admitted students to consider admission to Notre Dame as well as any other colleges to which they were accepted. 1,400 of the 3,577 (39.1%) were admitted under the early action plan. Admitted students came from 1,311 high schools and the average student traveled more than 750 miles to Notre Dame, making it arguably the most representative university in the United States. While all entering students begin in the College of the First Year of Studies, 25% have indicated they plan to study in the liberal arts or social sciences, 24% in engineering, 24% in business, 24% in science, and 3% in architecture.\n",
            "-----------------------------\n"
          ]
        }
      ]
    },
    {
      "cell_type": "code",
      "source": [
        "!pip install sentencepiece"
      ],
      "metadata": {
        "colab": {
          "base_uri": "https://localhost:8080/"
        },
        "id": "r2qTx62IaDYj",
        "outputId": "5bfaf3f2-bfd0-480d-dae8-ee22b5a3ba3e"
      },
      "execution_count": null,
      "outputs": [
        {
          "output_type": "stream",
          "name": "stdout",
          "text": [
            "Collecting sentencepiece\n",
            "  Downloading sentencepiece-0.1.96-cp37-cp37m-manylinux_2_17_x86_64.manylinux2014_x86_64.whl (1.2 MB)\n",
            "\u001b[?25l\r\u001b[K     |▎                               | 10 kB 18.1 MB/s eta 0:00:01\r\u001b[K     |▌                               | 20 kB 21.6 MB/s eta 0:00:01\r\u001b[K     |▉                               | 30 kB 16.6 MB/s eta 0:00:01\r\u001b[K     |█                               | 40 kB 14.8 MB/s eta 0:00:01\r\u001b[K     |█▍                              | 51 kB 11.1 MB/s eta 0:00:01\r\u001b[K     |█▋                              | 61 kB 12.7 MB/s eta 0:00:01\r\u001b[K     |██                              | 71 kB 11.0 MB/s eta 0:00:01\r\u001b[K     |██▏                             | 81 kB 11.3 MB/s eta 0:00:01\r\u001b[K     |██▍                             | 92 kB 12.3 MB/s eta 0:00:01\r\u001b[K     |██▊                             | 102 kB 12.4 MB/s eta 0:00:01\r\u001b[K     |███                             | 112 kB 12.4 MB/s eta 0:00:01\r\u001b[K     |███▎                            | 122 kB 12.4 MB/s eta 0:00:01\r\u001b[K     |███▌                            | 133 kB 12.4 MB/s eta 0:00:01\r\u001b[K     |███▉                            | 143 kB 12.4 MB/s eta 0:00:01\r\u001b[K     |████                            | 153 kB 12.4 MB/s eta 0:00:01\r\u001b[K     |████▎                           | 163 kB 12.4 MB/s eta 0:00:01\r\u001b[K     |████▋                           | 174 kB 12.4 MB/s eta 0:00:01\r\u001b[K     |████▉                           | 184 kB 12.4 MB/s eta 0:00:01\r\u001b[K     |█████▏                          | 194 kB 12.4 MB/s eta 0:00:01\r\u001b[K     |█████▍                          | 204 kB 12.4 MB/s eta 0:00:01\r\u001b[K     |█████▊                          | 215 kB 12.4 MB/s eta 0:00:01\r\u001b[K     |██████                          | 225 kB 12.4 MB/s eta 0:00:01\r\u001b[K     |██████▏                         | 235 kB 12.4 MB/s eta 0:00:01\r\u001b[K     |██████▌                         | 245 kB 12.4 MB/s eta 0:00:01\r\u001b[K     |██████▊                         | 256 kB 12.4 MB/s eta 0:00:01\r\u001b[K     |███████                         | 266 kB 12.4 MB/s eta 0:00:01\r\u001b[K     |███████▎                        | 276 kB 12.4 MB/s eta 0:00:01\r\u001b[K     |███████▋                        | 286 kB 12.4 MB/s eta 0:00:01\r\u001b[K     |███████▉                        | 296 kB 12.4 MB/s eta 0:00:01\r\u001b[K     |████████                        | 307 kB 12.4 MB/s eta 0:00:01\r\u001b[K     |████████▍                       | 317 kB 12.4 MB/s eta 0:00:01\r\u001b[K     |████████▋                       | 327 kB 12.4 MB/s eta 0:00:01\r\u001b[K     |█████████                       | 337 kB 12.4 MB/s eta 0:00:01\r\u001b[K     |█████████▏                      | 348 kB 12.4 MB/s eta 0:00:01\r\u001b[K     |█████████▌                      | 358 kB 12.4 MB/s eta 0:00:01\r\u001b[K     |█████████▊                      | 368 kB 12.4 MB/s eta 0:00:01\r\u001b[K     |██████████                      | 378 kB 12.4 MB/s eta 0:00:01\r\u001b[K     |██████████▎                     | 389 kB 12.4 MB/s eta 0:00:01\r\u001b[K     |██████████▌                     | 399 kB 12.4 MB/s eta 0:00:01\r\u001b[K     |██████████▉                     | 409 kB 12.4 MB/s eta 0:00:01\r\u001b[K     |███████████                     | 419 kB 12.4 MB/s eta 0:00:01\r\u001b[K     |███████████▍                    | 430 kB 12.4 MB/s eta 0:00:01\r\u001b[K     |███████████▋                    | 440 kB 12.4 MB/s eta 0:00:01\r\u001b[K     |███████████▉                    | 450 kB 12.4 MB/s eta 0:00:01\r\u001b[K     |████████████▏                   | 460 kB 12.4 MB/s eta 0:00:01\r\u001b[K     |████████████▍                   | 471 kB 12.4 MB/s eta 0:00:01\r\u001b[K     |████████████▊                   | 481 kB 12.4 MB/s eta 0:00:01\r\u001b[K     |█████████████                   | 491 kB 12.4 MB/s eta 0:00:01\r\u001b[K     |█████████████▎                  | 501 kB 12.4 MB/s eta 0:00:01\r\u001b[K     |█████████████▌                  | 512 kB 12.4 MB/s eta 0:00:01\r\u001b[K     |█████████████▊                  | 522 kB 12.4 MB/s eta 0:00:01\r\u001b[K     |██████████████                  | 532 kB 12.4 MB/s eta 0:00:01\r\u001b[K     |██████████████▎                 | 542 kB 12.4 MB/s eta 0:00:01\r\u001b[K     |██████████████▋                 | 552 kB 12.4 MB/s eta 0:00:01\r\u001b[K     |██████████████▉                 | 563 kB 12.4 MB/s eta 0:00:01\r\u001b[K     |███████████████▏                | 573 kB 12.4 MB/s eta 0:00:01\r\u001b[K     |███████████████▍                | 583 kB 12.4 MB/s eta 0:00:01\r\u001b[K     |███████████████▋                | 593 kB 12.4 MB/s eta 0:00:01\r\u001b[K     |████████████████                | 604 kB 12.4 MB/s eta 0:00:01\r\u001b[K     |████████████████▏               | 614 kB 12.4 MB/s eta 0:00:01\r\u001b[K     |████████████████▌               | 624 kB 12.4 MB/s eta 0:00:01\r\u001b[K     |████████████████▊               | 634 kB 12.4 MB/s eta 0:00:01\r\u001b[K     |█████████████████               | 645 kB 12.4 MB/s eta 0:00:01\r\u001b[K     |█████████████████▎              | 655 kB 12.4 MB/s eta 0:00:01\r\u001b[K     |█████████████████▌              | 665 kB 12.4 MB/s eta 0:00:01\r\u001b[K     |█████████████████▉              | 675 kB 12.4 MB/s eta 0:00:01\r\u001b[K     |██████████████████              | 686 kB 12.4 MB/s eta 0:00:01\r\u001b[K     |██████████████████▍             | 696 kB 12.4 MB/s eta 0:00:01\r\u001b[K     |██████████████████▋             | 706 kB 12.4 MB/s eta 0:00:01\r\u001b[K     |███████████████████             | 716 kB 12.4 MB/s eta 0:00:01\r\u001b[K     |███████████████████▏            | 727 kB 12.4 MB/s eta 0:00:01\r\u001b[K     |███████████████████▍            | 737 kB 12.4 MB/s eta 0:00:01\r\u001b[K     |███████████████████▊            | 747 kB 12.4 MB/s eta 0:00:01\r\u001b[K     |████████████████████            | 757 kB 12.4 MB/s eta 0:00:01\r\u001b[K     |████████████████████▎           | 768 kB 12.4 MB/s eta 0:00:01\r\u001b[K     |████████████████████▌           | 778 kB 12.4 MB/s eta 0:00:01\r\u001b[K     |████████████████████▉           | 788 kB 12.4 MB/s eta 0:00:01\r\u001b[K     |█████████████████████           | 798 kB 12.4 MB/s eta 0:00:01\r\u001b[K     |█████████████████████▎          | 808 kB 12.4 MB/s eta 0:00:01\r\u001b[K     |█████████████████████▋          | 819 kB 12.4 MB/s eta 0:00:01\r\u001b[K     |█████████████████████▉          | 829 kB 12.4 MB/s eta 0:00:01\r\u001b[K     |██████████████████████▏         | 839 kB 12.4 MB/s eta 0:00:01\r\u001b[K     |██████████████████████▍         | 849 kB 12.4 MB/s eta 0:00:01\r\u001b[K     |██████████████████████▊         | 860 kB 12.4 MB/s eta 0:00:01\r\u001b[K     |███████████████████████         | 870 kB 12.4 MB/s eta 0:00:01\r\u001b[K     |███████████████████████▏        | 880 kB 12.4 MB/s eta 0:00:01\r\u001b[K     |███████████████████████▌        | 890 kB 12.4 MB/s eta 0:00:01\r\u001b[K     |███████████████████████▊        | 901 kB 12.4 MB/s eta 0:00:01\r\u001b[K     |████████████████████████        | 911 kB 12.4 MB/s eta 0:00:01\r\u001b[K     |████████████████████████▎       | 921 kB 12.4 MB/s eta 0:00:01\r\u001b[K     |████████████████████████▋       | 931 kB 12.4 MB/s eta 0:00:01\r\u001b[K     |████████████████████████▉       | 942 kB 12.4 MB/s eta 0:00:01\r\u001b[K     |█████████████████████████       | 952 kB 12.4 MB/s eta 0:00:01\r\u001b[K     |█████████████████████████▍      | 962 kB 12.4 MB/s eta 0:00:01\r\u001b[K     |█████████████████████████▋      | 972 kB 12.4 MB/s eta 0:00:01\r\u001b[K     |██████████████████████████      | 983 kB 12.4 MB/s eta 0:00:01\r\u001b[K     |██████████████████████████▏     | 993 kB 12.4 MB/s eta 0:00:01\r\u001b[K     |██████████████████████████▌     | 1.0 MB 12.4 MB/s eta 0:00:01\r\u001b[K     |██████████████████████████▊     | 1.0 MB 12.4 MB/s eta 0:00:01\r\u001b[K     |███████████████████████████     | 1.0 MB 12.4 MB/s eta 0:00:01\r\u001b[K     |███████████████████████████▎    | 1.0 MB 12.4 MB/s eta 0:00:01\r\u001b[K     |███████████████████████████▌    | 1.0 MB 12.4 MB/s eta 0:00:01\r\u001b[K     |███████████████████████████▉    | 1.1 MB 12.4 MB/s eta 0:00:01\r\u001b[K     |████████████████████████████    | 1.1 MB 12.4 MB/s eta 0:00:01\r\u001b[K     |████████████████████████████▍   | 1.1 MB 12.4 MB/s eta 0:00:01\r\u001b[K     |████████████████████████████▋   | 1.1 MB 12.4 MB/s eta 0:00:01\r\u001b[K     |████████████████████████████▉   | 1.1 MB 12.4 MB/s eta 0:00:01\r\u001b[K     |█████████████████████████████▏  | 1.1 MB 12.4 MB/s eta 0:00:01\r\u001b[K     |█████████████████████████████▍  | 1.1 MB 12.4 MB/s eta 0:00:01\r\u001b[K     |█████████████████████████████▊  | 1.1 MB 12.4 MB/s eta 0:00:01\r\u001b[K     |██████████████████████████████  | 1.1 MB 12.4 MB/s eta 0:00:01\r\u001b[K     |██████████████████████████████▎ | 1.1 MB 12.4 MB/s eta 0:00:01\r\u001b[K     |██████████████████████████████▌ | 1.2 MB 12.4 MB/s eta 0:00:01\r\u001b[K     |██████████████████████████████▊ | 1.2 MB 12.4 MB/s eta 0:00:01\r\u001b[K     |███████████████████████████████ | 1.2 MB 12.4 MB/s eta 0:00:01\r\u001b[K     |███████████████████████████████▎| 1.2 MB 12.4 MB/s eta 0:00:01\r\u001b[K     |███████████████████████████████▋| 1.2 MB 12.4 MB/s eta 0:00:01\r\u001b[K     |███████████████████████████████▉| 1.2 MB 12.4 MB/s eta 0:00:01\r\u001b[K     |████████████████████████████████| 1.2 MB 12.4 MB/s \n",
            "\u001b[?25hInstalling collected packages: sentencepiece\n",
            "Successfully installed sentencepiece-0.1.96\n"
          ]
        }
      ]
    },
    {
      "cell_type": "code",
      "source": [
        "from transformers import AutoTokenizer, AutoModelForSeq2SeqLM\n",
        "\n",
        "tokenizer = AutoTokenizer.from_pretrained(\"allenai/macaw-large\")\n",
        "model = AutoModelForSeq2SeqLM.from_pretrained(\"allenai/macaw-large\")\n",
        "input_string = \"$answer$ ; $question$ ; $explanation$ = Super Bowl 50 was an American football game to determine the champion of the National Football League (NFL) for the 2015 season. The American Football Conference (AFC) champion Denver Broncos defeated the National Football Conference (NFC) champion Carolina Panthers 24–10 to earn their third Super Bowl title. The game was played on February 7, 2016, at Levi\\'s Stadium in the San Francisco Bay Area at Santa Clara, California. As this was the 50th Super Bowl, the league emphasized the 'golden anniversary' with various gold-themed initiatives, as well as temporarily suspending the tradition of naming each Super Bowl game with Roman numerals (under which the game would have been known as 'Super Bowl L'), so that the logo could prominently feature the Arabic numerals 50\"\n",
        "input_ids = tokenizer.encode(input_string, return_tensors=\"pt\")\n",
        "output = model.generate(input_ids, max_length=200)\n",
        "\n",
        "tokenizer.batch_decode(output, skip_special_tokens=True)\n"
      ],
      "metadata": {
        "colab": {
          "base_uri": "https://localhost:8080/"
        },
        "id": "6iwixo2M7Plx",
        "outputId": "ceccb4e8-9542-4206-9d56-4d175078b97a"
      },
      "execution_count": null,
      "outputs": [
        {
          "output_type": "execute_result",
          "data": {
            "text/plain": [
              "['$answer$ = 50 ; $question$ = In February of 2016, the NFL held a special game called \"Super Bowl 50\" in which the winner was determined. The game was played at Levi\\'s Stadium in San Francisco, California.']"
            ]
          },
          "metadata": {},
          "execution_count": 39
        }
      ]
    },
    {
      "cell_type": "code",
      "source": [
        "input_string = \"$answer$ ; $explanation$ ; $question$ = What percentage of students at Notre Dame participated in the Early Action program?\"\n",
        "input_ids = tokenizer.encode(input_string, return_tensors=\"pt\")\n",
        "output = model.generate(input_ids, max_length=200)\n",
        "\n",
        "tokenizer.batch_decode(output, skip_special_tokens=True)\n"
      ],
      "metadata": {
        "colab": {
          "base_uri": "https://localhost:8080/"
        },
        "id": "yqfH2Cl9iSLa",
        "outputId": "523db77f-f8d0-4eca-bf77-497328560813"
      },
      "execution_count": null,
      "outputs": [
        {
          "output_type": "execute_result",
          "data": {
            "text/plain": [
              "['$answer$ = 71 percent ; $explanation$ = Early action programs help students to become more responsible for their own lives.']"
            ]
          },
          "metadata": {},
          "execution_count": 40
        }
      ]
    },
    {
      "cell_type": "code",
      "source": [
        "input_string = \"$answer$ ; $explanation$ ; $question$ = What is NLP?\"\n",
        "input_ids = tokenizer.encode(input_string, return_tensors=\"pt\")\n",
        "output = model.generate(input_ids, max_length=200)\n",
        "\n",
        "tokenizer.batch_decode(output, skip_special_tokens=True)"
      ],
      "metadata": {
        "colab": {
          "base_uri": "https://localhost:8080/"
        },
        "id": "v1Q-0m3wif7y",
        "outputId": "2a3a8be0-75a9-4a69-8a9b-3d2724b1458c"
      },
      "execution_count": null,
      "outputs": [
        {
          "output_type": "execute_result",
          "data": {
            "text/plain": [
              "['$answer$ = non-linear programming ; $explanation$ = NLP is a kind of language.']"
            ]
          },
          "metadata": {},
          "execution_count": 41
        }
      ]
    },
    {
      "cell_type": "code",
      "source": [],
      "metadata": {
        "id": "B60MLH2Ekcop"
      },
      "execution_count": null,
      "outputs": []
    }
  ]
}